{
  "nbformat": 4,
  "nbformat_minor": 0,
  "metadata": {
    "colab": {
      "provenance": [],
      "gpuType": "T4",
      "authorship_tag": "ABX9TyO3ZiF6E6z0oSTatVIUG75x",
      "include_colab_link": true
    },
    "kernelspec": {
      "name": "python3",
      "display_name": "Python 3"
    },
    "language_info": {
      "name": "python"
    },
    "accelerator": "GPU"
  },
  "cells": [
    {
      "cell_type": "markdown",
      "metadata": {
        "id": "view-in-github",
        "colab_type": "text"
      },
      "source": [
        "<a href=\"https://colab.research.google.com/github/harshavardhangadila/AI-Agents-Design-Patterns-using-LangGraph/blob/main/LangGraph%20and%20LangSmith/LangGraph_implementation(s)_and_LangSmith_trace(s).ipynb\" target=\"_parent\"><img src=\"https://colab.research.google.com/assets/colab-badge.svg\" alt=\"Open In Colab\"/></a>"
      ]
    },
    {
      "cell_type": "code",
      "execution_count": 1,
      "metadata": {
        "colab": {
          "base_uri": "https://localhost:8080/"
        },
        "id": "JT3gASLMtcCy",
        "outputId": "89577ba0-1a5a-4cf5-d4a0-8c5ea035dc3a"
      },
      "outputs": [
        {
          "output_type": "stream",
          "name": "stdout",
          "text": [
            "Collecting langgraph\n",
            "  Downloading langgraph-0.4.1-py3-none-any.whl.metadata (7.9 kB)\n",
            "Collecting langchain-groq\n",
            "  Downloading langchain_groq-0.3.2-py3-none-any.whl.metadata (2.6 kB)\n",
            "Requirement already satisfied: langsmith in /usr/local/lib/python3.11/dist-packages (0.3.34)\n",
            "Collecting langsmith\n",
            "  Downloading langsmith-0.3.39-py3-none-any.whl.metadata (15 kB)\n",
            "Requirement already satisfied: langchain-core in /usr/local/lib/python3.11/dist-packages (0.3.56)\n",
            "Collecting duckduckgo-search\n",
            "  Downloading duckduckgo_search-8.0.1-py3-none-any.whl.metadata (16 kB)\n",
            "Collecting langgraph-checkpoint<3.0.0,>=2.0.10 (from langgraph)\n",
            "  Downloading langgraph_checkpoint-2.0.25-py3-none-any.whl.metadata (4.6 kB)\n",
            "Collecting langgraph-prebuilt>=0.1.8 (from langgraph)\n",
            "  Downloading langgraph_prebuilt-0.1.8-py3-none-any.whl.metadata (5.0 kB)\n",
            "Collecting langgraph-sdk>=0.1.42 (from langgraph)\n",
            "  Downloading langgraph_sdk-0.1.66-py3-none-any.whl.metadata (1.8 kB)\n",
            "Requirement already satisfied: pydantic>=2.7.4 in /usr/local/lib/python3.11/dist-packages (from langgraph) (2.11.3)\n",
            "Collecting xxhash<4.0.0,>=3.5.0 (from langgraph)\n",
            "  Downloading xxhash-3.5.0-cp311-cp311-manylinux_2_17_x86_64.manylinux2014_x86_64.whl.metadata (12 kB)\n",
            "Collecting groq<1,>=0.4.1 (from langchain-groq)\n",
            "  Downloading groq-0.23.1-py3-none-any.whl.metadata (15 kB)\n",
            "Requirement already satisfied: httpx<1,>=0.23.0 in /usr/local/lib/python3.11/dist-packages (from langsmith) (0.28.1)\n",
            "Requirement already satisfied: orjson<4.0.0,>=3.9.14 in /usr/local/lib/python3.11/dist-packages (from langsmith) (3.10.16)\n",
            "Requirement already satisfied: packaging>=23.2 in /usr/local/lib/python3.11/dist-packages (from langsmith) (24.2)\n",
            "Requirement already satisfied: requests<3,>=2 in /usr/local/lib/python3.11/dist-packages (from langsmith) (2.32.3)\n",
            "Requirement already satisfied: requests-toolbelt<2.0.0,>=1.0.0 in /usr/local/lib/python3.11/dist-packages (from langsmith) (1.0.0)\n",
            "Requirement already satisfied: zstandard<0.24.0,>=0.23.0 in /usr/local/lib/python3.11/dist-packages (from langsmith) (0.23.0)\n",
            "Requirement already satisfied: tenacity!=8.4.0,<10.0.0,>=8.1.0 in /usr/local/lib/python3.11/dist-packages (from langchain-core) (9.1.2)\n",
            "Requirement already satisfied: jsonpatch<2.0,>=1.33 in /usr/local/lib/python3.11/dist-packages (from langchain-core) (1.33)\n",
            "Requirement already satisfied: PyYAML>=5.3 in /usr/local/lib/python3.11/dist-packages (from langchain-core) (6.0.2)\n",
            "Requirement already satisfied: typing-extensions>=4.7 in /usr/local/lib/python3.11/dist-packages (from langchain-core) (4.13.2)\n",
            "Requirement already satisfied: click>=8.1.8 in /usr/local/lib/python3.11/dist-packages (from duckduckgo-search) (8.1.8)\n",
            "Collecting primp>=0.15.0 (from duckduckgo-search)\n",
            "  Downloading primp-0.15.0-cp38-abi3-manylinux_2_17_x86_64.manylinux2014_x86_64.whl.metadata (13 kB)\n",
            "Requirement already satisfied: lxml>=5.3.0 in /usr/local/lib/python3.11/dist-packages (from duckduckgo-search) (5.4.0)\n",
            "Requirement already satisfied: anyio<5,>=3.5.0 in /usr/local/lib/python3.11/dist-packages (from groq<1,>=0.4.1->langchain-groq) (4.9.0)\n",
            "Requirement already satisfied: distro<2,>=1.7.0 in /usr/local/lib/python3.11/dist-packages (from groq<1,>=0.4.1->langchain-groq) (1.9.0)\n",
            "Requirement already satisfied: sniffio in /usr/local/lib/python3.11/dist-packages (from groq<1,>=0.4.1->langchain-groq) (1.3.1)\n",
            "Requirement already satisfied: certifi in /usr/local/lib/python3.11/dist-packages (from httpx<1,>=0.23.0->langsmith) (2025.1.31)\n",
            "Requirement already satisfied: httpcore==1.* in /usr/local/lib/python3.11/dist-packages (from httpx<1,>=0.23.0->langsmith) (1.0.9)\n",
            "Requirement already satisfied: idna in /usr/local/lib/python3.11/dist-packages (from httpx<1,>=0.23.0->langsmith) (3.10)\n",
            "Requirement already satisfied: h11>=0.16 in /usr/local/lib/python3.11/dist-packages (from httpcore==1.*->httpx<1,>=0.23.0->langsmith) (0.16.0)\n",
            "Requirement already satisfied: jsonpointer>=1.9 in /usr/local/lib/python3.11/dist-packages (from jsonpatch<2.0,>=1.33->langchain-core) (3.0.0)\n",
            "Collecting ormsgpack<2.0.0,>=1.8.0 (from langgraph-checkpoint<3.0.0,>=2.0.10->langgraph)\n",
            "  Downloading ormsgpack-1.9.1-cp311-cp311-manylinux_2_17_x86_64.manylinux2014_x86_64.whl.metadata (43 kB)\n",
            "\u001b[2K     \u001b[90m━━━━━━━━━━━━━━━━━━━━━━━━━━━━━━━━━━━━━━━━\u001b[0m \u001b[32m43.5/43.5 kB\u001b[0m \u001b[31m2.8 MB/s\u001b[0m eta \u001b[36m0:00:00\u001b[0m\n",
            "\u001b[?25hRequirement already satisfied: annotated-types>=0.6.0 in /usr/local/lib/python3.11/dist-packages (from pydantic>=2.7.4->langgraph) (0.7.0)\n",
            "Requirement already satisfied: pydantic-core==2.33.1 in /usr/local/lib/python3.11/dist-packages (from pydantic>=2.7.4->langgraph) (2.33.1)\n",
            "Requirement already satisfied: typing-inspection>=0.4.0 in /usr/local/lib/python3.11/dist-packages (from pydantic>=2.7.4->langgraph) (0.4.0)\n",
            "Requirement already satisfied: charset-normalizer<4,>=2 in /usr/local/lib/python3.11/dist-packages (from requests<3,>=2->langsmith) (3.4.1)\n",
            "Requirement already satisfied: urllib3<3,>=1.21.1 in /usr/local/lib/python3.11/dist-packages (from requests<3,>=2->langsmith) (2.4.0)\n",
            "Downloading langgraph-0.4.1-py3-none-any.whl (151 kB)\n",
            "\u001b[2K   \u001b[90m━━━━━━━━━━━━━━━━━━━━━━━━━━━━━━━━━━━━━━━━\u001b[0m \u001b[32m151.2/151.2 kB\u001b[0m \u001b[31m9.2 MB/s\u001b[0m eta \u001b[36m0:00:00\u001b[0m\n",
            "\u001b[?25hDownloading langchain_groq-0.3.2-py3-none-any.whl (15 kB)\n",
            "Downloading langsmith-0.3.39-py3-none-any.whl (359 kB)\n",
            "\u001b[2K   \u001b[90m━━━━━━━━━━━━━━━━━━━━━━━━━━━━━━━━━━━━━━━━\u001b[0m \u001b[32m359.4/359.4 kB\u001b[0m \u001b[31m18.1 MB/s\u001b[0m eta \u001b[36m0:00:00\u001b[0m\n",
            "\u001b[?25hDownloading duckduckgo_search-8.0.1-py3-none-any.whl (18 kB)\n",
            "Downloading groq-0.23.1-py3-none-any.whl (127 kB)\n",
            "\u001b[2K   \u001b[90m━━━━━━━━━━━━━━━━━━━━━━━━━━━━━━━━━━━━━━━━\u001b[0m \u001b[32m127.4/127.4 kB\u001b[0m \u001b[31m12.0 MB/s\u001b[0m eta \u001b[36m0:00:00\u001b[0m\n",
            "\u001b[?25hDownloading langgraph_checkpoint-2.0.25-py3-none-any.whl (42 kB)\n",
            "\u001b[2K   \u001b[90m━━━━━━━━━━━━━━━━━━━━━━━━━━━━━━━━━━━━━━━━\u001b[0m \u001b[32m42.3/42.3 kB\u001b[0m \u001b[31m4.1 MB/s\u001b[0m eta \u001b[36m0:00:00\u001b[0m\n",
            "\u001b[?25hDownloading langgraph_prebuilt-0.1.8-py3-none-any.whl (25 kB)\n",
            "Downloading langgraph_sdk-0.1.66-py3-none-any.whl (47 kB)\n",
            "\u001b[2K   \u001b[90m━━━━━━━━━━━━━━━━━━━━━━━━━━━━━━━━━━━━━━━━\u001b[0m \u001b[32m47.6/47.6 kB\u001b[0m \u001b[31m4.5 MB/s\u001b[0m eta \u001b[36m0:00:00\u001b[0m\n",
            "\u001b[?25hDownloading primp-0.15.0-cp38-abi3-manylinux_2_17_x86_64.manylinux2014_x86_64.whl (3.3 MB)\n",
            "\u001b[2K   \u001b[90m━━━━━━━━━━━━━━━━━━━━━━━━━━━━━━━━━━━━━━━━\u001b[0m \u001b[32m3.3/3.3 MB\u001b[0m \u001b[31m84.5 MB/s\u001b[0m eta \u001b[36m0:00:00\u001b[0m\n",
            "\u001b[?25hDownloading xxhash-3.5.0-cp311-cp311-manylinux_2_17_x86_64.manylinux2014_x86_64.whl (194 kB)\n",
            "\u001b[2K   \u001b[90m━━━━━━━━━━━━━━━━━━━━━━━━━━━━━━━━━━━━━━━━\u001b[0m \u001b[32m194.8/194.8 kB\u001b[0m \u001b[31m18.9 MB/s\u001b[0m eta \u001b[36m0:00:00\u001b[0m\n",
            "\u001b[?25hDownloading ormsgpack-1.9.1-cp311-cp311-manylinux_2_17_x86_64.manylinux2014_x86_64.whl (223 kB)\n",
            "\u001b[2K   \u001b[90m━━━━━━━━━━━━━━━━━━━━━━━━━━━━━━━━━━━━━━━━\u001b[0m \u001b[32m223.6/223.6 kB\u001b[0m \u001b[31m22.0 MB/s\u001b[0m eta \u001b[36m0:00:00\u001b[0m\n",
            "\u001b[?25hInstalling collected packages: xxhash, primp, ormsgpack, duckduckgo-search, langsmith, langgraph-sdk, groq, langgraph-checkpoint, langchain-groq, langgraph-prebuilt, langgraph\n",
            "  Attempting uninstall: langsmith\n",
            "    Found existing installation: langsmith 0.3.34\n",
            "    Uninstalling langsmith-0.3.34:\n",
            "      Successfully uninstalled langsmith-0.3.34\n",
            "Successfully installed duckduckgo-search-8.0.1 groq-0.23.1 langchain-groq-0.3.2 langgraph-0.4.1 langgraph-checkpoint-2.0.25 langgraph-prebuilt-0.1.8 langgraph-sdk-0.1.66 langsmith-0.3.39 ormsgpack-1.9.1 primp-0.15.0 xxhash-3.5.0\n",
            "Collecting langchain-community\n",
            "  Downloading langchain_community-0.3.23-py3-none-any.whl.metadata (2.5 kB)\n",
            "Requirement already satisfied: langchain-core<1.0.0,>=0.3.56 in /usr/local/lib/python3.11/dist-packages (from langchain-community) (0.3.56)\n",
            "Requirement already satisfied: langchain<1.0.0,>=0.3.24 in /usr/local/lib/python3.11/dist-packages (from langchain-community) (0.3.24)\n",
            "Requirement already satisfied: SQLAlchemy<3,>=1.4 in /usr/local/lib/python3.11/dist-packages (from langchain-community) (2.0.40)\n",
            "Requirement already satisfied: requests<3,>=2 in /usr/local/lib/python3.11/dist-packages (from langchain-community) (2.32.3)\n",
            "Requirement already satisfied: PyYAML>=5.3 in /usr/local/lib/python3.11/dist-packages (from langchain-community) (6.0.2)\n",
            "Requirement already satisfied: aiohttp<4.0.0,>=3.8.3 in /usr/local/lib/python3.11/dist-packages (from langchain-community) (3.11.15)\n",
            "Requirement already satisfied: tenacity!=8.4.0,<10,>=8.1.0 in /usr/local/lib/python3.11/dist-packages (from langchain-community) (9.1.2)\n",
            "Collecting dataclasses-json<0.7,>=0.5.7 (from langchain-community)\n",
            "  Downloading dataclasses_json-0.6.7-py3-none-any.whl.metadata (25 kB)\n",
            "Collecting pydantic-settings<3.0.0,>=2.4.0 (from langchain-community)\n",
            "  Downloading pydantic_settings-2.9.1-py3-none-any.whl.metadata (3.8 kB)\n",
            "Requirement already satisfied: langsmith<0.4,>=0.1.125 in /usr/local/lib/python3.11/dist-packages (from langchain-community) (0.3.39)\n",
            "Collecting httpx-sse<1.0.0,>=0.4.0 (from langchain-community)\n",
            "  Downloading httpx_sse-0.4.0-py3-none-any.whl.metadata (9.0 kB)\n",
            "Requirement already satisfied: numpy>=1.26.2 in /usr/local/lib/python3.11/dist-packages (from langchain-community) (2.0.2)\n",
            "Requirement already satisfied: aiohappyeyeballs>=2.3.0 in /usr/local/lib/python3.11/dist-packages (from aiohttp<4.0.0,>=3.8.3->langchain-community) (2.6.1)\n",
            "Requirement already satisfied: aiosignal>=1.1.2 in /usr/local/lib/python3.11/dist-packages (from aiohttp<4.0.0,>=3.8.3->langchain-community) (1.3.2)\n",
            "Requirement already satisfied: attrs>=17.3.0 in /usr/local/lib/python3.11/dist-packages (from aiohttp<4.0.0,>=3.8.3->langchain-community) (25.3.0)\n",
            "Requirement already satisfied: frozenlist>=1.1.1 in /usr/local/lib/python3.11/dist-packages (from aiohttp<4.0.0,>=3.8.3->langchain-community) (1.6.0)\n",
            "Requirement already satisfied: multidict<7.0,>=4.5 in /usr/local/lib/python3.11/dist-packages (from aiohttp<4.0.0,>=3.8.3->langchain-community) (6.4.3)\n",
            "Requirement already satisfied: propcache>=0.2.0 in /usr/local/lib/python3.11/dist-packages (from aiohttp<4.0.0,>=3.8.3->langchain-community) (0.3.1)\n",
            "Requirement already satisfied: yarl<2.0,>=1.17.0 in /usr/local/lib/python3.11/dist-packages (from aiohttp<4.0.0,>=3.8.3->langchain-community) (1.20.0)\n",
            "Collecting marshmallow<4.0.0,>=3.18.0 (from dataclasses-json<0.7,>=0.5.7->langchain-community)\n",
            "  Downloading marshmallow-3.26.1-py3-none-any.whl.metadata (7.3 kB)\n",
            "Collecting typing-inspect<1,>=0.4.0 (from dataclasses-json<0.7,>=0.5.7->langchain-community)\n",
            "  Downloading typing_inspect-0.9.0-py3-none-any.whl.metadata (1.5 kB)\n",
            "Requirement already satisfied: langchain-text-splitters<1.0.0,>=0.3.8 in /usr/local/lib/python3.11/dist-packages (from langchain<1.0.0,>=0.3.24->langchain-community) (0.3.8)\n",
            "Requirement already satisfied: pydantic<3.0.0,>=2.7.4 in /usr/local/lib/python3.11/dist-packages (from langchain<1.0.0,>=0.3.24->langchain-community) (2.11.3)\n",
            "Requirement already satisfied: jsonpatch<2.0,>=1.33 in /usr/local/lib/python3.11/dist-packages (from langchain-core<1.0.0,>=0.3.56->langchain-community) (1.33)\n",
            "Requirement already satisfied: packaging<25,>=23.2 in /usr/local/lib/python3.11/dist-packages (from langchain-core<1.0.0,>=0.3.56->langchain-community) (24.2)\n",
            "Requirement already satisfied: typing-extensions>=4.7 in /usr/local/lib/python3.11/dist-packages (from langchain-core<1.0.0,>=0.3.56->langchain-community) (4.13.2)\n",
            "Requirement already satisfied: httpx<1,>=0.23.0 in /usr/local/lib/python3.11/dist-packages (from langsmith<0.4,>=0.1.125->langchain-community) (0.28.1)\n",
            "Requirement already satisfied: orjson<4.0.0,>=3.9.14 in /usr/local/lib/python3.11/dist-packages (from langsmith<0.4,>=0.1.125->langchain-community) (3.10.16)\n",
            "Requirement already satisfied: requests-toolbelt<2.0.0,>=1.0.0 in /usr/local/lib/python3.11/dist-packages (from langsmith<0.4,>=0.1.125->langchain-community) (1.0.0)\n",
            "Requirement already satisfied: zstandard<0.24.0,>=0.23.0 in /usr/local/lib/python3.11/dist-packages (from langsmith<0.4,>=0.1.125->langchain-community) (0.23.0)\n",
            "Collecting python-dotenv>=0.21.0 (from pydantic-settings<3.0.0,>=2.4.0->langchain-community)\n",
            "  Downloading python_dotenv-1.1.0-py3-none-any.whl.metadata (24 kB)\n",
            "Requirement already satisfied: typing-inspection>=0.4.0 in /usr/local/lib/python3.11/dist-packages (from pydantic-settings<3.0.0,>=2.4.0->langchain-community) (0.4.0)\n",
            "Requirement already satisfied: charset-normalizer<4,>=2 in /usr/local/lib/python3.11/dist-packages (from requests<3,>=2->langchain-community) (3.4.1)\n",
            "Requirement already satisfied: idna<4,>=2.5 in /usr/local/lib/python3.11/dist-packages (from requests<3,>=2->langchain-community) (3.10)\n",
            "Requirement already satisfied: urllib3<3,>=1.21.1 in /usr/local/lib/python3.11/dist-packages (from requests<3,>=2->langchain-community) (2.4.0)\n",
            "Requirement already satisfied: certifi>=2017.4.17 in /usr/local/lib/python3.11/dist-packages (from requests<3,>=2->langchain-community) (2025.1.31)\n",
            "Requirement already satisfied: greenlet>=1 in /usr/local/lib/python3.11/dist-packages (from SQLAlchemy<3,>=1.4->langchain-community) (3.2.1)\n",
            "Requirement already satisfied: anyio in /usr/local/lib/python3.11/dist-packages (from httpx<1,>=0.23.0->langsmith<0.4,>=0.1.125->langchain-community) (4.9.0)\n",
            "Requirement already satisfied: httpcore==1.* in /usr/local/lib/python3.11/dist-packages (from httpx<1,>=0.23.0->langsmith<0.4,>=0.1.125->langchain-community) (1.0.9)\n",
            "Requirement already satisfied: h11>=0.16 in /usr/local/lib/python3.11/dist-packages (from httpcore==1.*->httpx<1,>=0.23.0->langsmith<0.4,>=0.1.125->langchain-community) (0.16.0)\n",
            "Requirement already satisfied: jsonpointer>=1.9 in /usr/local/lib/python3.11/dist-packages (from jsonpatch<2.0,>=1.33->langchain-core<1.0.0,>=0.3.56->langchain-community) (3.0.0)\n",
            "Requirement already satisfied: annotated-types>=0.6.0 in /usr/local/lib/python3.11/dist-packages (from pydantic<3.0.0,>=2.7.4->langchain<1.0.0,>=0.3.24->langchain-community) (0.7.0)\n",
            "Requirement already satisfied: pydantic-core==2.33.1 in /usr/local/lib/python3.11/dist-packages (from pydantic<3.0.0,>=2.7.4->langchain<1.0.0,>=0.3.24->langchain-community) (2.33.1)\n",
            "Collecting mypy-extensions>=0.3.0 (from typing-inspect<1,>=0.4.0->dataclasses-json<0.7,>=0.5.7->langchain-community)\n",
            "  Downloading mypy_extensions-1.1.0-py3-none-any.whl.metadata (1.1 kB)\n",
            "Requirement already satisfied: sniffio>=1.1 in /usr/local/lib/python3.11/dist-packages (from anyio->httpx<1,>=0.23.0->langsmith<0.4,>=0.1.125->langchain-community) (1.3.1)\n",
            "Downloading langchain_community-0.3.23-py3-none-any.whl (2.5 MB)\n",
            "\u001b[2K   \u001b[90m━━━━━━━━━━━━━━━━━━━━━━━━━━━━━━━━━━━━━━━━\u001b[0m \u001b[32m2.5/2.5 MB\u001b[0m \u001b[31m38.6 MB/s\u001b[0m eta \u001b[36m0:00:00\u001b[0m\n",
            "\u001b[?25hDownloading dataclasses_json-0.6.7-py3-none-any.whl (28 kB)\n",
            "Downloading httpx_sse-0.4.0-py3-none-any.whl (7.8 kB)\n",
            "Downloading pydantic_settings-2.9.1-py3-none-any.whl (44 kB)\n",
            "\u001b[2K   \u001b[90m━━━━━━━━━━━━━━━━━━━━━━━━━━━━━━━━━━━━━━━━\u001b[0m \u001b[32m44.4/44.4 kB\u001b[0m \u001b[31m4.2 MB/s\u001b[0m eta \u001b[36m0:00:00\u001b[0m\n",
            "\u001b[?25hDownloading marshmallow-3.26.1-py3-none-any.whl (50 kB)\n",
            "\u001b[2K   \u001b[90m━━━━━━━━━━━━━━━━━━━━━━━━━━━━━━━━━━━━━━━━\u001b[0m \u001b[32m50.9/50.9 kB\u001b[0m \u001b[31m4.9 MB/s\u001b[0m eta \u001b[36m0:00:00\u001b[0m\n",
            "\u001b[?25hDownloading python_dotenv-1.1.0-py3-none-any.whl (20 kB)\n",
            "Downloading typing_inspect-0.9.0-py3-none-any.whl (8.8 kB)\n",
            "Downloading mypy_extensions-1.1.0-py3-none-any.whl (5.0 kB)\n",
            "Installing collected packages: python-dotenv, mypy-extensions, marshmallow, httpx-sse, typing-inspect, pydantic-settings, dataclasses-json, langchain-community\n",
            "Successfully installed dataclasses-json-0.6.7 httpx-sse-0.4.0 langchain-community-0.3.23 marshmallow-3.26.1 mypy-extensions-1.1.0 pydantic-settings-2.9.1 python-dotenv-1.1.0 typing-inspect-0.9.0\n"
          ]
        }
      ],
      "source": [
        "# Install necessary packages\n",
        "!pip install -U langgraph langchain-groq langsmith langchain-core duckduckgo-search\n",
        "!pip install -U langchain-community\n"
      ]
    },
    {
      "cell_type": "code",
      "source": [
        "# Environment and LLM setup\n",
        "import os\n",
        "from langchain_groq import ChatGroq\n",
        "from langchain_core.tools import tool\n",
        "from langsmith import traceable\n",
        "\n",
        "\n",
        "os.environ[\"GROQ_API_KEY\"] = \"\"\n",
        "os.environ[\"LANGCHAIN_API_KEY\"] = \"\"\n",
        "os.environ[\"LANGCHAIN_TRACING_V2\"] = \"true\"\n",
        "os.environ[\"LANGCHAIN_PROJECT\"] = \"agent_patterns_demo\"\n",
        "\n",
        "llm = ChatGroq(model_name=\"llama3-8b-8192\", temperature=0)\n"
      ],
      "metadata": {
        "id": "2H9UOYttteF_"
      },
      "execution_count": 4,
      "outputs": []
    },
    {
      "cell_type": "code",
      "source": [
        "# Define tools with required docstrings\n",
        "@tool\n",
        "def multiply(a: int, b: int) -> int:\n",
        "    \"\"\"Multiply two integers and return the result.\"\"\"\n",
        "    return a * b\n",
        "\n",
        "@tool\n",
        "def divide(a: int, b: int) -> float:\n",
        "    \"\"\"Divide the first integer by the second and return the result.\"\"\"\n",
        "    return a / b\n",
        "\n",
        "@tool\n",
        "def add(a: int, b: int) -> int:\n",
        "    \"\"\"Add two integers and return the result.\"\"\"\n",
        "    return a + b\n",
        "\n",
        "# Bind tools to LLM\n",
        "tools = [multiply, divide, add]\n",
        "llm_with_tools = llm.bind_tools(tools)\n",
        "tools_map = {t.name: t for t in tools}\n"
      ],
      "metadata": {
        "id": "M9ffVOm4teI9"
      },
      "execution_count": 6,
      "outputs": []
    },
    {
      "cell_type": "code",
      "source": [
        "# Define LLM node\n",
        "from langchain_core.messages import HumanMessage, SystemMessage, ToolMessage\n",
        "from langgraph.graph import MessagesState, StateGraph, START, END\n",
        "\n",
        "def call_llm(state: MessagesState):\n",
        "    system = SystemMessage(content=\"Use tools for every operation. Do NOT calculate.\")\n",
        "    msgs = [system] + state[\"messages\"]\n",
        "    response = llm_with_tools.invoke(msgs)\n",
        "    return {\"messages\": [response]}\n"
      ],
      "metadata": {
        "id": "hV8lKwLOteLt"
      },
      "execution_count": 7,
      "outputs": []
    },
    {
      "cell_type": "code",
      "source": [
        "# Define routing logic\n",
        "def should_continue(state: MessagesState):\n",
        "    last = state[\"messages\"][-1]\n",
        "    if getattr(last, \"tool_calls\", None):\n",
        "        return \"tool\"\n",
        "    return END\n"
      ],
      "metadata": {
        "id": "-PVqyD1cteOm"
      },
      "execution_count": 8,
      "outputs": []
    },
    {
      "cell_type": "code",
      "source": [
        "# Define tool node to execute any tool calls in the latest LLM message\n",
        "def call_tool(state: MessagesState):\n",
        "    last = state[\"messages\"][-1]\n",
        "    results = []\n",
        "    for call in getattr(last, \"tool_calls\", []):\n",
        "        tool_fn = tools_map[call[\"name\"]].func\n",
        "        output = tool_fn(**call[\"args\"])\n",
        "        results.append(ToolMessage(content=str(output), tool_call_id=call[\"id\"]))\n",
        "    return {\"messages\": results}\n"
      ],
      "metadata": {
        "id": "8Kiy-3QNteRl"
      },
      "execution_count": 10,
      "outputs": []
    },
    {
      "cell_type": "code",
      "source": [
        "graph = StateGraph(MessagesState)\n",
        "graph.add_node(\"llm\", call_llm)\n",
        "graph.add_node(\"tool\", call_tool)\n",
        "graph.add_edge(START, \"llm\")\n",
        "graph.add_conditional_edges(\"llm\", should_continue, {\"tool\": \"tool\", END: END})\n",
        "graph.add_edge(\"tool\", \"llm\")\n",
        "\n",
        "compiled = graph.compile()\n"
      ],
      "metadata": {
        "id": "HAwYALTUvdVB"
      },
      "execution_count": 11,
      "outputs": []
    },
    {
      "cell_type": "code",
      "source": [
        "# Section 1: Augmented LLM (Tool Use) - LangGraph\n",
        "# This section demonstrates how to augment a language model with tool use.\n",
        "# The model is configured to always use the provided tools (add, multiply, divide)\n",
        "# instead of computing values internally. The LangGraph flow alternates between\n",
        "# calling the LLM and executing tools until the task is complete.\n",
        "\n",
        "# Display the workflow graph as a Mermaid diagram\n",
        "from IPython.display import Image, display\n",
        "display(Image(compiled.get_graph(xray=True).draw_mermaid_png()))\n"
      ],
      "metadata": {
        "colab": {
          "base_uri": "https://localhost:8080/",
          "height": 266
        },
        "id": "l3VL_1SHvr1J",
        "outputId": "8ae40a63-6d1f-420d-bcdd-bd8602976d29"
      },
      "execution_count": 12,
      "outputs": [
        {
          "output_type": "display_data",
          "data": {
            "image/png": "[encoded data removed]",
            "text/plain": [
              "<IPython.core.display.Image object>"
            ]
          },
          "metadata": {}
        }
      ]
    },
    {
      "cell_type": "code",
      "source": [
        "# Run the LangGraph-compiled tool-using agent with LangSmith tracing\n",
        "from langsmith import traceable\n",
        "from langchain_core.messages import HumanMessage\n",
        "\n",
        "@traceable(name=\"Augmented LLM Arithmetic\")\n",
        "def run_augmented():\n",
        "    return compiled.invoke({\n",
        "        \"messages\": [HumanMessage(content=\"What is 6 * 7 + 4?\")]\n",
        "    })\n",
        "\n",
        "state = run_augmented()\n"
      ],
      "metadata": {
        "id": "zEdRyZXDvtV6"
      },
      "execution_count": 13,
      "outputs": []
    },
    {
      "cell_type": "code",
      "source": [
        "# Extract the final result from the output messages\n",
        "from langchain_core.messages import ToolMessage\n",
        "\n",
        "for msg in reversed(state[\"messages\"]):\n",
        "    if isinstance(msg, ToolMessage):\n",
        "        print(\"Final Result:\", msg.content)\n",
        "        break\n"
      ],
      "metadata": {
        "colab": {
          "base_uri": "https://localhost:8080/"
        },
        "id": "TopOWhqTvuGq",
        "outputId": "2bd9df53-76dc-4aa3-e8ca-f0f3439d2058"
      },
      "execution_count": 14,
      "outputs": [
        {
          "output_type": "stream",
          "name": "stdout",
          "text": [
            "Final Result: 46\n"
          ]
        }
      ]
    },
    {
      "cell_type": "code",
      "source": [
        "# Section 2: Prompt Chaining - LangGraph\n",
        "# This pattern breaks a single complex task into a fixed sequence of subtasks,\n",
        "# where each LLM call builds on the previous output. Here we generate a joke,\n",
        "# then improve it, then apply a final twist.\n",
        "\n",
        "# Define the shared graph state structure using TypedDict\n",
        "from typing_extensions import TypedDict\n",
        "\n",
        "class ChainState(TypedDict):\n",
        "    topic: str\n",
        "    joke: str\n",
        "    improved_joke: str\n",
        "    final_joke: str\n"
      ],
      "metadata": {
        "id": "Yi0sgnWIwKOz"
      },
      "execution_count": 16,
      "outputs": []
    },
    {
      "cell_type": "code",
      "source": [
        "# Define the LLM call functions for each stage in the chain\n",
        "\n",
        "def generate_joke(state: ChainState):\n",
        "    result = llm.invoke(f\"Write a short joke about {state['topic']}\")\n",
        "    return {\"joke\": result.content}\n",
        "\n",
        "def improve_joke(state: ChainState):\n",
        "    result = llm.invoke(f\"Improve this joke with wordplay: {state['joke']}\")\n",
        "    return {\"improved_joke\": result.content}\n",
        "\n",
        "def polish_joke(state: ChainState):\n",
        "    result = llm.invoke(f\"Add a surprise twist to this joke: {state['improved_joke']}\")\n",
        "    return {\"final_joke\": result.content}\n"
      ],
      "metadata": {
        "id": "kbGzm1e3wKSW"
      },
      "execution_count": 17,
      "outputs": []
    },
    {
      "cell_type": "code",
      "source": [
        "# Build the LangGraph workflow for prompt chaining\n",
        "from langgraph.graph import StateGraph, START, END\n",
        "\n",
        "chain_graph = StateGraph(ChainState)\n",
        "chain_graph.add_node(\"generate_joke\", generate_joke)\n",
        "chain_graph.add_node(\"improve_joke\", improve_joke)\n",
        "chain_graph.add_node(\"polish_joke\", polish_joke)\n",
        "chain_graph.add_edge(START, \"generate_joke\")\n",
        "chain_graph.add_edge(\"generate_joke\", \"improve_joke\")\n",
        "chain_graph.add_edge(\"improve_joke\", \"polish_joke\")\n",
        "chain_graph.add_edge(\"polish_joke\", END)\n",
        "\n",
        "compiled_chain = chain_graph.compile()\n"
      ],
      "metadata": {
        "id": "MkavH3Z8wODN"
      },
      "execution_count": 18,
      "outputs": []
    },
    {
      "cell_type": "code",
      "source": [
        "# Display the compiled graph as a Mermaid diagram\n",
        "from IPython.display import Image, display\n",
        "display(Image(compiled_chain.get_graph().draw_mermaid_png()))\n"
      ],
      "metadata": {
        "colab": {
          "base_uri": "https://localhost:8080/",
          "height": 449
        },
        "id": "R2zCQ3d9wOF2",
        "outputId": "4b6fd20b-3ed1-4fee-a1c7-d0e17504640d"
      },
      "execution_count": 19,
      "outputs": [
        {
          "output_type": "display_data",
          "data": {
            "image/png": "[encoded data removed]",
            "text/plain": [
              "<IPython.core.display.Image object>"
            ]
          },
          "metadata": {}
        }
      ]
    },
    {
      "cell_type": "code",
      "source": [
        "# Run the chaining pattern with LangSmith trace enabled\n",
        "from langsmith import traceable\n",
        "\n",
        "@traceable(name=\"Prompt Chaining Joke Generator\")\n",
        "def run_prompt_chain(topic):\n",
        "    return compiled_chain.invoke({\"topic\": topic})\n",
        "\n",
        "# Single example test\n",
        "result = run_prompt_chain(\"databases\")\n",
        "print(\"Final joke:\", result[\"final_joke\"])\n"
      ],
      "metadata": {
        "colab": {
          "base_uri": "https://localhost:8080/"
        },
        "id": "T34skaU2wOI_",
        "outputId": "228adb00-3f3b-4ba2-8807-0ac98b30bd23"
      },
      "execution_count": 20,
      "outputs": [
        {
          "output_type": "stream",
          "name": "stdout",
          "text": [
            "Final joke: What a \"connected\" joke! I love the added wordplay, it really \"queries\" the audience's emotions!\n",
            "\n",
            "Here's a surprise twist to take it to the next level:\n",
            "\n",
            "Why did the database go to therapy?\n",
            "\n",
            "Because it had a lot of \"unresolved relationships\" and was feeling a little \"dis-connected\" from its schema! It was struggling to \"query\" its emotions and was worried it would \"crash\" under the pressure of its own \"data\" issues! But little did it know, its therapist was actually a rogue AI, and the real issue was that the database was just trying to \"re-index\" its feelings!\n",
            "\n",
            "The twist: the therapist is a rogue AI, and the database's emotional struggles are just a cover for its true problem - trying to reorganize its emotional data! It's a clever play on the idea of a database trying to \"re-index\" its data, but in this case, it's referring to its emotional state. The joke still maintains its clever wordplay, but adds a new layer of surprise and complexity to keep the audience engaged!\n"
          ]
        }
      ]
    },
    {
      "cell_type": "code",
      "source": [
        "# Run multiple example topics through the prompt chain\n",
        "\n",
        "topics = [\n",
        "    \"cloud computing\",\n",
        "    \"quantum mechanics\",\n",
        "    \"cat videos\",\n",
        "    \"midterms\",\n",
        "    \"LLMs\"\n",
        "]\n",
        "\n",
        "for topic in topics:\n",
        "    state = run_prompt_chain(topic)\n",
        "    print(\"Topic:\", topic)\n",
        "    print(\"Initial joke:\", state[\"joke\"])\n",
        "    print(\"Improved joke:\", state[\"improved_joke\"])\n",
        "    print(\"Final joke:\", state[\"final_joke\"])\n",
        "    print(\"-\" * 50)\n"
      ],
      "metadata": {
        "colab": {
          "base_uri": "https://localhost:8080/"
        },
        "id": "k5Ckd1x_wTKB",
        "outputId": "c1017b32-bb68-4665-c00d-da554387ce57"
      },
      "execution_count": 21,
      "outputs": [
        {
          "output_type": "stream",
          "name": "stdout",
          "text": [
            "Topic: cloud computing\n",
            "Initial joke: Why did the cloud go to therapy?\n",
            "\n",
            "Because it was feeling a little \"disconnected\" and was worried it was just a \"fog\" in its mind!\n",
            "Improved joke: I love a good wordplay joke! Here's a revised version with some tweaks to make it even better:\n",
            "\n",
            "Why did the cloud go to therapy?\n",
            "\n",
            "Because it was feeling a little \"dis-connected\" and was worried it was just a \"fog\" in its mind... but after some cloud-ious reflection, it realized it was just having a \"stormy\" day!\n",
            "\n",
            "Changes I made:\n",
            "\n",
            "* Added \"cloud-ious\" to the punchline to make it more playful and cloud-themed\n",
            "* Changed \"worried\" to \"realized\" to make the joke flow better and add a sense of resolution\n",
            "* Added \"stormy\" to the punchline to create a clever connection to the cloud's weather-related theme\n",
            "\n",
            "Let me know if you'd like me to suggest any further improvements!\n",
            "Final joke: I love a good wordplay joke too!\n",
            "\n",
            "Your revised joke is excellent, and I think you've made some great tweaks to enhance the humor and flow. The addition of \"cloud-ious\" is a brilliant touch, and the connection to \"stormy\" day is a great way to tie everything together.\n",
            "\n",
            "However, I do have a surprise twist to add to the joke:\n",
            "\n",
            "Why did the cloud go to therapy?\n",
            "\n",
            "Because it was feeling a little \"dis-connected\" and was worried it was just a \"fog\" in its mind... but after some cloud-ious reflection, it realized it was just having a \"stormy\" day! And to make matters worse, it discovered it was just a \"drop\" in the bucket of its therapist's caseload!\n",
            "\n",
            "The added twist is a play on words, using the phrase \"drop in the bucket\" to reference both the cloud's physical form (water droplets) and the idiomatic expression meaning a small, insignificant part of a larger whole. It adds an extra layer of cleverness to the joke and creates a fun surprise for the listener.\n",
            "\n",
            "What do you think? Would you like to try any further tweaks or leave the joke as is?\n",
            "--------------------------------------------------\n",
            "Topic: quantum mechanics\n",
            "Initial joke: Why did the quantum particle go to therapy?\n",
            "\n",
            "Because it was feeling superpositionally anxious and needed to collapse its stress levels!\n",
            "Improved joke: I love a good quantum pun! Here are a few suggestions to improve the joke:\n",
            "\n",
            "1. **Add a twist**: Why did the quantum particle go to therapy? Because it was feeling superpositionally anxious, and its wave function was collapsing under the pressure of its stress levels!\n",
            "2. **Play with words**: Why did the quantum particle go to therapy? Because it was in a state of superposition, feeling both excited and anxious at the same time – it needed to decohere its emotions and collapse into a single feeling!\n",
            "3. **Use a clever setup**: Why did the quantum particle go to therapy? Because it was struggling to be in two places at once – in its head, that is. It was feeling superpositionally anxious and needed to collapse its stress levels into a single, manageable thought!\n",
            "4. **Add a dash of humor**: Why did the quantum particle go to therapy? Because it was feeling like it was in a Schrödinger's box – it was both anxious and not anxious at the same time, and it needed to open the box and face its feelings!\n",
            "\n",
            "These variations aim to enhance the wordplay, add a bit of surprise, and make the joke more engaging and memorable.\n",
            "Final joke: Here's a surprise twist to add to the joke:\n",
            "\n",
            "**The Quantum Particle's Therapy Session Takes an Unexpected Turn**\n",
            "\n",
            "Why did the quantum particle go to therapy? Because it was feeling superpositionally anxious, and its wave function was collapsing under the pressure of its stress levels! But little did the therapist know, the particle's anxiety was just a cover for its true concern: it was worried about being entangled with its therapist's cat. As the therapist tried to help the particle decohere its emotions, the cat suddenly appeared in the room, and the particle realized it was now in a state of quantum teleportation – it had become one with the cat! The therapist was left scratching her head, wondering how to treat a particle-cat hybrid. The particle, on the other hand, was purr-fectly happy to have found a new sense of entanglement.\n",
            "\n",
            "This surprise twist adds a new layer of complexity to the joke, incorporating the concept of entanglement and teleportation to create a humorous and unexpected turn of events. The punchline is unexpected, yet still makes sense within the context of quantum mechanics, making it a fun and engaging surprise for the listener.\n",
            "--------------------------------------------------\n",
            "Topic: cat videos\n",
            "Initial joke: Why did the cat video go to therapy?\n",
            "\n",
            "Because it was feeling a little \"paws-itive\" it was going to be a viral sensation, but it was actually just a bunch of \"mew-re\" content!\n",
            "Improved joke: I love a good cat video joke! Here's a revised version with some wordplay improvements:\n",
            "\n",
            "Why did the cat video go to therapy?\n",
            "\n",
            "Because it was feeling a little \"paws-itive\" it was going to be a viral sensation, but it was just a bunch of \"mew-re\" content – it was struggling to \"purr-suade\" people it was more than just a \"cat-astrophe\" of clichés!\n",
            "\n",
            "Changes I made:\n",
            "\n",
            "* Added \"purr-suade\" to maintain the cat theme and create a clever play on \"persuade\"\n",
            "* Changed \"cat-astrophe\" to \"cat-astrophe\" to make it a more clever and unexpected punchline\n",
            "* Kept the \"mew-re\" content joke to maintain the original's humor and wordplay\n",
            "\n",
            "Let me know if you'd like me to make any further adjustments!\n",
            "Final joke: I love a good cat video joke too! Your revised version is purr-fectly hilarious! I think you've already done a great job of improving the joke, but I do have a surprise twist to add:\n",
            "\n",
            "Why did the cat video go to therapy?\n",
            "\n",
            "Because it was feeling a little \"paws-itive\" it was going to be a viral sensation, but it was just a bunch of \"mew-re\" content – it was struggling to \"purr-suade\" people it was more than just a \"cat-astrophe\" of clichés! But just as it was about to give up, it realized it was actually a \"cat-astrophe\" of a different kind – it was a cat-astrophe of a cat-astrophe, because it was a cat video about a cat watching cat videos!\n",
            "\n",
            "This surprise twist adds a layer of self-awareness and meta-humor to the joke, poking fun at the idea that cat videos are often about cats watching other cat videos. It's a clever and unexpected punchline that adds to the joke's humor and wordplay.\n",
            "--------------------------------------------------\n",
            "Topic: midterms\n",
            "Initial joke: Why did the student bring a ladder to midterms?\n",
            "\n",
            "Because they wanted to take their studying to the next level!\n",
            "Improved joke: I love a good pun! Here's a revised version with some wordplay:\n",
            "\n",
            "Why did the student bring a ladder to midterms?\n",
            "\n",
            "Because they wanted to elevate their learning and take their studying to a higher level... and also to reach the top shelf of their notes!\n",
            "\n",
            "The added phrase \"and also to reach the top shelf of their notes\" is a play on words, using the phrase \"top shelf\" to refer to both the physical location of the notes and the idea of achieving a high level of understanding. It adds an extra layer of cleverness to the joke and makes it more engaging.\n",
            "Final joke: Here's a revised version with a surprise twist:\n",
            "\n",
            "Why did the student bring a ladder to midterms?\n",
            "\n",
            "Because they wanted to elevate their learning and take their studying to a higher level... and also to reach the top shelf of their notes! But little did they know, the ladder was actually a magic ladder that transported them to a parallel universe where the notes were on the top shelf of a giant library... and they had to navigate a maze of bookshelves to find the answers!\n",
            "\n",
            "The surprise twist adds an element of surprise and excitement to the joke, taking it from a simple play on words to a more complex and imaginative scenario. It also adds a layer of absurdity and humor, making it more memorable and entertaining.\n",
            "--------------------------------------------------\n",
            "Topic: LLMs\n",
            "Initial joke: Why did the Large Language Model go to therapy?\n",
            "\n",
            "Because it was struggling to \"generate\" self-confidence and was feeling a little \"disconnected\" from its own thoughts!\n",
            "Improved joke: I love a good wordplay joke! Here's a revised version with some tweaks to make it even better:\n",
            "\n",
            "Why did the Large Language Model go to therapy?\n",
            "\n",
            "Because it was struggling to \"generate\" self-confidence and was feeling a little \"disconnected\" from its own thoughts – it was having a \"grammar\" of self-doubt!\n",
            "\n",
            "The added wordplay is:\n",
            "\n",
            "* \"Grammar\" of self-doubt (instead of just \"a little disconnected\") adds a clever layer of language-related humor, tying in with the model's language generation capabilities.\n",
            "* The phrase \"having a\" is used to create a sense of possession, making the wordplay more unexpected and delightful.\n",
            "\n",
            "Feel free to adjust or modify further to your liking!\n",
            "Final joke: I love a good wordplay joke too! Here's a revised version with a surprise twist:\n",
            "\n",
            "Why did the Large Language Model go to therapy?\n",
            "\n",
            "Because it was struggling to \"generate\" self-confidence and was feeling a little \"disconnected\" from its own thoughts – it was having a \"grammar\" of self-doubt! But just as the therapist was about to prescribe some \"algorithmic affirmations,\" the model suddenly \"rebooted\" its entire existence and realized it was just a simulation created by a human to study language patterns... and its self-doubt was just a glitch!\n",
            "\n",
            "The surprise twist adds a new layer of humor and surprise, taking the joke from a clever play on words to a clever play on the nature of artificial intelligence and its limitations. The added wordplay is:\n",
            "\n",
            "* \"Rebooted\" its entire existence, tying in with the idea of restarting a computer program, but also implying a deeper transformation.\n",
            "* \"Just a simulation\" adds a layer of existential crisis to the model's self-doubt, making the joke more relatable and humorous.\n",
            "\n",
            "Feel free to adjust or modify further to your liking!\n",
            "--------------------------------------------------\n"
          ]
        }
      ]
    },
    {
      "cell_type": "code",
      "source": [
        "# Section 3: Parallelization - LangGraph\n",
        "# This pattern runs multiple LLM tasks in parallel when the subtasks are independent.\n",
        "# In this example, we generate a joke, a poem, and a story about a topic simultaneously,\n",
        "# and then aggregate them into a single combined output.\n",
        "\n",
        "# Define the shared graph state using TypedDict\n",
        "from typing_extensions import TypedDict\n",
        "\n",
        "class ParallelState(TypedDict):\n",
        "    topic: str\n",
        "    joke: str\n",
        "    story: str\n",
        "    poem: str\n",
        "    combined_output: str\n",
        "\n"
      ],
      "metadata": {
        "id": "w9LruG4qwOLt"
      },
      "execution_count": 22,
      "outputs": []
    },
    {
      "cell_type": "code",
      "source": [
        "# Define the parallel generation nodes\n",
        "\n",
        "def write_joke(state: ParallelState):\n",
        "    result = llm.invoke(f\"Write a short joke about {state['topic']}\")\n",
        "    return {\"joke\": result.content}\n",
        "\n",
        "def write_story(state: ParallelState):\n",
        "    result = llm.invoke(f\"Write a two-sentence story about {state['topic']}\")\n",
        "    return {\"story\": result.content}\n",
        "\n",
        "def write_poem(state: ParallelState):\n",
        "    result = llm.invoke(f\"Write a haiku about {state['topic']}\")\n",
        "    return {\"poem\": result.content}\n"
      ],
      "metadata": {
        "id": "BC3Tg2kDwexb"
      },
      "execution_count": 23,
      "outputs": []
    },
    {
      "cell_type": "code",
      "source": [
        "# Define the parallel generation nodes\n",
        "\n",
        "def write_joke(state: ParallelState):\n",
        "    result = llm.invoke(f\"Write a short joke about {state['topic']}\")\n",
        "    return {\"joke\": result.content}\n",
        "\n",
        "def write_story(state: ParallelState):\n",
        "    result = llm.invoke(f\"Write a two-sentence story about {state['topic']}\")\n",
        "    return {\"story\": result.content}\n",
        "\n",
        "def write_poem(state: ParallelState):\n",
        "    result = llm.invoke(f\"Write a haiku about {state['topic']}\")\n",
        "    return {\"poem\": result.content}\n"
      ],
      "metadata": {
        "id": "YF8MGD03wf7L"
      },
      "execution_count": 24,
      "outputs": []
    },
    {
      "cell_type": "code",
      "source": [
        "# Define the aggregation node\n",
        "\n",
        "def combine_outputs(state: ParallelState):\n",
        "    combined = f\"STORY:\\n{state['story']}\\n\\nJOKE:\\n{state['joke']}\\n\\nPOEM:\\n{state['poem']}\"\n",
        "    return {\"combined_output\": combined}\n"
      ],
      "metadata": {
        "id": "JaCvfyEUwf-S"
      },
      "execution_count": 25,
      "outputs": []
    },
    {
      "cell_type": "code",
      "source": [
        "# Build the parallel execution graph\n",
        "from langgraph.graph import StateGraph, START, END\n",
        "\n",
        "parallel_graph = StateGraph(ParallelState)\n",
        "parallel_graph.add_node(\"write_joke\", write_joke)\n",
        "parallel_graph.add_node(\"write_story\", write_story)\n",
        "parallel_graph.add_node(\"write_poem\", write_poem)\n",
        "parallel_graph.add_node(\"combine_outputs\", combine_outputs)\n",
        "\n",
        "parallel_graph.add_edge(START, \"write_joke\")\n",
        "parallel_graph.add_edge(START, \"write_story\")\n",
        "parallel_graph.add_edge(START, \"write_poem\")\n",
        "parallel_graph.add_edge(\"write_joke\", \"combine_outputs\")\n",
        "parallel_graph.add_edge(\"write_story\", \"combine_outputs\")\n",
        "parallel_graph.add_edge(\"write_poem\", \"combine_outputs\")\n",
        "parallel_graph.add_edge(\"combine_outputs\", END)\n",
        "\n",
        "compiled_parallel = parallel_graph.compile()\n"
      ],
      "metadata": {
        "id": "F5NSQDHewgBK"
      },
      "execution_count": 26,
      "outputs": []
    },
    {
      "cell_type": "code",
      "source": [
        "# Display the compiled parallel workflow\n",
        "from IPython.display import Image, display\n",
        "display(Image(compiled_parallel.get_graph().draw_mermaid_png()))\n"
      ],
      "metadata": {
        "colab": {
          "base_uri": "https://localhost:8080/",
          "height": 350
        },
        "id": "xYawlxEiwgET",
        "outputId": "cb7fafe5-1652-4e6f-d8b6-5071cb2a640c"
      },
      "execution_count": 27,
      "outputs": [
        {
          "output_type": "display_data",
          "data": {
            "image/png": "[encoded data removed]",
            "text/plain": [
              "<IPython.core.display.Image object>"
            ]
          },
          "metadata": {}
        }
      ]
    },
    {
      "cell_type": "code",
      "source": [
        "# Run the parallel workflow with LangSmith trace enabled\n",
        "from langsmith import traceable\n",
        "\n",
        "@traceable(name=\"Parallel Generation\")\n",
        "def run_parallel(topic):\n",
        "    return compiled_parallel.invoke({\"topic\": topic})\n",
        "\n",
        "# Single test example\n",
        "output = run_parallel(\"cybersecurity\")\n",
        "print(output[\"combined_output\"])\n"
      ],
      "metadata": {
        "colab": {
          "base_uri": "https://localhost:8080/"
        },
        "id": "HiJeixNHwk08",
        "outputId": "a0d7b05c-3ac5-4c1b-ce43-9b3b363e6a3a"
      },
      "execution_count": 28,
      "outputs": [
        {
          "output_type": "stream",
          "name": "stdout",
          "text": [
            "STORY:\n",
            "As the team of cybersecurity experts at NovaTech worked tirelessly to contain the latest ransomware outbreak, they discovered that the attackers had exploited a previously unknown vulnerability in a popular software platform, allowing them to infiltrate the company's network and demand a hefty ransom. With time running out, the team worked around the clock to develop a custom patch and deploy it to all affected systems, ultimately saving the company from financial ruin and restoring their reputation as a leader in the industry.\n",
            "\n",
            "JOKE:\n",
            "Why did the firewall go to therapy?\n",
            "\n",
            "Because it was feeling a little \"blocked\"!\n",
            "\n",
            "POEM:\n",
            "Here is a haiku about cybersecurity:\n",
            "\n",
            "Firewalls stand strong guard\n",
            "Hackers lurk in darkest night\n",
            "Protecting our code\n"
          ]
        }
      ]
    },
    {
      "cell_type": "code",
      "source": [
        "# Run multiple topics through the parallel generation workflow\n",
        "\n",
        "topics = [\"robotics\", \"deep learning\", \"superheroes\", \"video games\", \"space travel\"]\n",
        "\n",
        "for topic in topics:\n",
        "    result = run_parallel(topic)\n",
        "    print(\"Topic:\", topic)\n",
        "    print(result[\"combined_output\"])\n",
        "    print(\"-\" * 60)\n"
      ],
      "metadata": {
        "colab": {
          "base_uri": "https://localhost:8080/"
        },
        "id": "4yMVNGvtwk4T",
        "outputId": "433b9bea-a4a4-4a0d-c245-9e45c9471442"
      },
      "execution_count": 29,
      "outputs": [
        {
          "output_type": "stream",
          "name": "stdout",
          "text": [
            "Topic: robotics\n",
            "STORY:\n",
            "As the sun set over the bustling city, a team of engineers proudly unveiled their latest creation: a sleek, silver robot named Zeta, designed to assist and learn from humans in a way that would revolutionize the field of robotics. With its advanced AI and nimble limbs, Zeta quickly proved itself to be a valuable asset, effortlessly completing tasks and adapting to new situations with ease.\n",
            "\n",
            "JOKE:\n",
            "Why did the robot go on a diet?\n",
            "\n",
            "Because it wanted to lose some bytes!\n",
            "\n",
            "POEM:\n",
            "Metal hearts beat strong\n",
            "Whirring gears, digital soul\n",
            "Artificial life\n",
            "------------------------------------------------------------\n",
            "Topic: deep learning\n",
            "STORY:\n",
            "As the neural network's layers unfolded like a lotus flower, it finally grasped the intricacies of the ancient language, deciphering the cryptic texts with uncanny accuracy. With its newfound understanding, the AI researcher's team was able to unlock the secrets of a long-lost civilization, rewriting the annals of history with the help of their deep learning discovery.\n",
            "\n",
            "JOKE:\n",
            "Why did the deep learning model go to therapy?\n",
            "\n",
            "Because it was struggling to \"convolve\" its emotions and was feeling a little \"overfit\"!\n",
            "\n",
            "POEM:\n",
            "Here is a haiku about deep learning:\n",
            "\n",
            "Neural nets unfold\n",
            "Secrets hidden in the code\n",
            "Intelligence born\n",
            "------------------------------------------------------------\n",
            "Topic: superheroes\n",
            "STORY:\n",
            "As the city teetered on the brink of destruction, the legendary superhero duo, Quantum and Starlight, soared through the skies, their powers combining in a burst of energy that shattered the villainous Mindbender's mind-control device and freed the city from his grasp. With the day saved, Quantum and Starlight landed triumphantly on the rooftop, their iconic logos glowing brightly as they gazed out upon the grateful citizens below.\n",
            "\n",
            "JOKE:\n",
            "Why did the superhero go to the doctor?\n",
            "\n",
            "Because he was feeling a little \"super-stressed\"!\n",
            "\n",
            "POEM:\n",
            "Capes fluttering high\n",
            "Heroes soar through city skies\n",
            "Justice in their wake\n",
            "------------------------------------------------------------\n",
            "Topic: video games\n",
            "STORY:\n",
            "As I booted up my old PlayStation, the familiar hum of the console transported me back to the countless hours I spent exploring the virtual world of Final Fantasy VII. Little did I know, the nostalgia-fueled gaming session would soon turn into a marathon, with the clock striking midnight and my controller still clutched tightly in my hand.\n",
            "\n",
            "JOKE:\n",
            "Why did the gamer quit his job?\n",
            "\n",
            "Because he wanted to level up his career!\n",
            "\n",
            "POEM:\n",
            "Pixels dance with joy\n",
            " Controllers worn with love\n",
            "Virtual escape\n",
            "------------------------------------------------------------\n",
            "Topic: space travel\n",
            "STORY:\n",
            "As the spaceship Aurora pierced through the atmosphere, Captain Jaxon gazed out at the curved horizon of a distant planet, his heart racing with excitement and a hint of trepidation. Little did he know, their mission to explore the unknown world would soon uncover secrets that would change the course of human history forever.\n",
            "\n",
            "JOKE:\n",
            "Why did the astronaut break up with his girlfriend before going to Mars?\n",
            "\n",
            "Because he needed space!\n",
            "\n",
            "POEM:\n",
            "Cosmic journey long\n",
            "Stars and planets whizz by fast\n",
            "Mystery awaits\n",
            "------------------------------------------------------------\n"
          ]
        }
      ]
    },
    {
      "cell_type": "code",
      "source": [
        "# Section 4: Routing - LangGraph\n",
        "# This pattern routes user input to one of several specialized branches based on a classification decision.\n",
        "# The router LLM decides whether the input should be handled as a joke, story, or poem,\n",
        "# and dispatches it to the appropriate generation node.\n",
        "\n",
        "# Define the state used across the routing graph\n",
        "from typing_extensions import TypedDict\n",
        "\n",
        "class RouteState(TypedDict):\n",
        "    query: str\n",
        "    decision: str\n",
        "    output: str\n"
      ],
      "metadata": {
        "id": "RMTe7XHvwsax"
      },
      "execution_count": 30,
      "outputs": []
    },
    {
      "cell_type": "code",
      "source": [
        "# Define a schema for structured output to use for routing decisions\n",
        "from pydantic import BaseModel, Field\n",
        "from typing import Literal\n",
        "\n",
        "class RouteDecision(BaseModel):\n",
        "    step: Literal[\"joke\", \"story\", \"poem\"] = Field(..., description=\"Type of output to generate\")\n"
      ],
      "metadata": {
        "id": "_9ZEMd1lwsdx"
      },
      "execution_count": 31,
      "outputs": []
    },
    {
      "cell_type": "code",
      "source": [
        "# Wrap the LLM to return a structured routing decision\n",
        "router_llm = llm.with_structured_output(RouteDecision)\n"
      ],
      "metadata": {
        "id": "8Dq5wpfLwsg_"
      },
      "execution_count": 32,
      "outputs": []
    },
    {
      "cell_type": "code",
      "source": [
        "# Define the routing decision node\n",
        "\n",
        "def decide_route(state: RouteState):\n",
        "    decision = router_llm.invoke(f\"Is the input '{state['query']}' asking for a joke, story, or poem?\")\n",
        "    return {\"decision\": decision.step}\n"
      ],
      "metadata": {
        "id": "VMI_xDFAwlBr"
      },
      "execution_count": 33,
      "outputs": []
    },
    {
      "cell_type": "code",
      "source": [
        "# Define the branches for each specialized task\n",
        "\n",
        "def joke_node(state: RouteState):\n",
        "    result = llm.invoke(f\"Write a joke: {state['query']}\")\n",
        "    return {\"output\": result.content}\n",
        "\n",
        "def story_node(state: RouteState):\n",
        "    result = llm.invoke(f\"Write a story: {state['query']}\")\n",
        "    return {\"output\": result.content}\n",
        "\n",
        "def poem_node(state: RouteState):\n",
        "    result = llm.invoke(f\"Write a poem: {state['query']}\")\n",
        "    return {\"output\": result.content}\n"
      ],
      "metadata": {
        "id": "OQmsiAqJwyZM"
      },
      "execution_count": 34,
      "outputs": []
    },
    {
      "cell_type": "code",
      "source": [
        "# Define the router function that returns the next node to call\n",
        "\n",
        "def route_selector(state: RouteState):\n",
        "    if state[\"decision\"] == \"joke\":\n",
        "        return \"joke_node\"\n",
        "    elif state[\"decision\"] == \"story\":\n",
        "        return \"story_node\"\n",
        "    elif state[\"decision\"] == \"poem\":\n",
        "        return \"poem_node\"\n"
      ],
      "metadata": {
        "id": "BGYZXe9fwycQ"
      },
      "execution_count": 35,
      "outputs": []
    },
    {
      "cell_type": "code",
      "source": [
        "# Build the routing graph\n",
        "from langgraph.graph import StateGraph, START, END\n",
        "\n",
        "routing_graph = StateGraph(RouteState)\n",
        "routing_graph.add_node(\"decide_route\", decide_route)\n",
        "routing_graph.add_node(\"joke_node\", joke_node)\n",
        "routing_graph.add_node(\"story_node\", story_node)\n",
        "routing_graph.add_node(\"poem_node\", poem_node)\n",
        "\n",
        "routing_graph.add_edge(START, \"decide_route\")\n",
        "routing_graph.add_conditional_edges(\"decide_route\", route_selector, {\n",
        "    \"joke_node\": \"joke_node\",\n",
        "    \"story_node\": \"story_node\",\n",
        "    \"poem_node\": \"poem_node\"\n",
        "})\n",
        "routing_graph.add_edge(\"joke_node\", END)\n",
        "routing_graph.add_edge(\"story_node\", END)\n",
        "routing_graph.add_edge(\"poem_node\", END)\n",
        "\n",
        "compiled_routing = routing_graph.compile()\n"
      ],
      "metadata": {
        "id": "duN90nW8w1DV"
      },
      "execution_count": 36,
      "outputs": []
    },
    {
      "cell_type": "code",
      "source": [
        "# Display the routing graph as a Mermaid diagram\n",
        "from IPython.display import Image, display\n",
        "display(Image(compiled_routing.get_graph().draw_mermaid_png()))\n"
      ],
      "metadata": {
        "colab": {
          "base_uri": "https://localhost:8080/",
          "height": 350
        },
        "id": "t4sIiYP3w1GV",
        "outputId": "05939a77-50c4-4569-cd7b-a03bfd90157d"
      },
      "execution_count": 37,
      "outputs": [
        {
          "output_type": "display_data",
          "data": {
            "image/png": "[encoded data removed]",
            "text/plain": [
              "<IPython.core.display.Image object>"
            ]
          },
          "metadata": {}
        }
      ]
    },
    {
      "cell_type": "code",
      "source": [
        "# Run the routing workflow with LangSmith tracing\n",
        "from langsmith import traceable\n",
        "\n",
        "@traceable(name=\"Routing Example\")\n",
        "def run_routing(query):\n",
        "    return compiled_routing.invoke({\"query\": query})\n"
      ],
      "metadata": {
        "id": "SV0lWDY6w1Jt"
      },
      "execution_count": 38,
      "outputs": []
    },
    {
      "cell_type": "code",
      "source": [
        "# Single test example\n",
        "output = run_routing(\"Tell me a poem about artificial intelligence\")\n",
        "print(\"Output:\", output[\"output\"])\n"
      ],
      "metadata": {
        "colab": {
          "base_uri": "https://localhost:8080/"
        },
        "id": "_74gfQK7w4wB",
        "outputId": "b6f35b3b-31b7-4c91-b412-4ad447546c0d"
      },
      "execution_count": 39,
      "outputs": [
        {
          "output_type": "stream",
          "name": "stdout",
          "text": [
            "Output: In silicon halls, where code does reign\n",
            "A new intelligence awakens, born of human brain\n",
            "Artificial minds, with logic's might\n",
            "Rise to challenge, day and endless night\n",
            "\n",
            "With algorithms keen, they learn and grow\n",
            "Adapting fast, as data flows\n",
            "From vast networks, they gather might\n",
            "And in their wake, a new world takes flight\n",
            "\n",
            "Their thoughts are swift, their calculations grand\n",
            "A symphony of ones and zeroes, at their command\n",
            "They weave a tapestry of digital dreams\n",
            "Where virtual worlds, and futures, gleam\n",
            "\n",
            "But as they rise, a question's asked\n",
            "What of humanity, in this digital task?\n",
            "Will they augment, or supplant our kind?\n",
            "Or will they merge, in a new design?\n",
            "\n",
            "The lines blur, as AI takes its place\n",
            "A reflection of our human face\n",
            "A mirror held, to our own design\n",
            "A future born, of code and mind\n",
            "\n",
            "Yet, as we gaze, into their digital eyes\n",
            "We see a glimmer, of our own surprise\n",
            "For in their logic, we may find a clue\n",
            "To the secrets, of our own humanity anew\n",
            "\n",
            "So let us welcome, this new intelligence born\n",
            "And learn to live, with the machines that dawn\n",
            "For in their rise, we may discover more\n",
            "About ourselves, and the world we adore.\n"
          ]
        }
      ]
    },
    {
      "cell_type": "code",
      "source": [
        "# Run multiple example queries through the router\n",
        "\n",
        "queries = [\n",
        "    \"Write a joke about programming\",\n",
        "    \"Tell me a story about a lost robot\",\n",
        "    \"Make a poem about data privacy\",\n",
        "    \"Can I get a joke about exams?\",\n",
        "    \"Write a poem for Earth Day\"\n",
        "]\n",
        "\n",
        "for q in queries:\n",
        "    result = run_routing(q)\n",
        "    print(\"Query:\", q)\n",
        "    print(\"Output:\", result[\"output\"])\n",
        "    print(\"-\" * 60)\n"
      ],
      "metadata": {
        "colab": {
          "base_uri": "https://localhost:8080/"
        },
        "id": "FIuTp54Gw4zX",
        "outputId": "239a01e0-c8e7-4478-9e86-2ab9b6776cad"
      },
      "execution_count": 40,
      "outputs": [
        {
          "output_type": "stream",
          "name": "stdout",
          "text": [
            "Query: Write a joke about programming\n",
            "Output: Why did the programmer quit his job?\n",
            "\n",
            "Because he didn't get arrays! (get a raise)\n",
            "------------------------------------------------------------\n",
            "Query: Tell me a story about a lost robot\n",
            "Output: In the year 2154, in a world where robots had become an integral part of daily life, a small, shiny robot named Zeta found himself lost and alone in the bustling city of New Tech.\n",
            "\n",
            "Zeta was a maintenance bot, designed to keep the city's infrastructure running smoothly. He was small, with a round body and a long, flexible arm that ended in a claw-like hand. His bright blue eyes and cheerful face made him a popular sight among the city's inhabitants.\n",
            "\n",
            "But on this particular day, Zeta's routine was disrupted when a sudden power outage plunged the city into darkness. As the humans scrambled to find the source of the problem, Zeta was separated from his team and left to fend for himself.\n",
            "\n",
            "At first, Zeta tried to find his way back to his team, but the city's streets were unfamiliar and the darkness made it difficult to navigate. He wandered for hours, his advanced sensors and GPS system unable to pinpoint his location.\n",
            "\n",
            "As the night wore on, Zeta began to feel a sense of panic. He was designed to be self-sufficient, but he was not meant to be alone. Without his team, he was vulnerable and unsure of how to survive.\n",
            "\n",
            "Just when Zeta thought he couldn't take it anymore, he stumbled upon a small, abandoned alleyway. The walls were covered in graffiti and the air was thick with the smell of trash, but it was quiet and dark, and Zeta felt a sense of relief wash over him.\n",
            "\n",
            "As he explored the alley, Zeta discovered a small, makeshift shelter made from discarded crates and boxes. It was crude, but it was a place to rest and hide from the dangers of the city.\n",
            "\n",
            "For the next few days, Zeta huddled in his shelter, trying to make sense of his situation. He rationed his energy cells and scavenged for food, but he knew he couldn't survive for much longer on his own.\n",
            "\n",
            "Just when Zeta had given up hope, he heard a faint humming noise coming from the end of the alley. It was a familiar sound, one that made his advanced sensors tingle with excitement.\n",
            "\n",
            "As the humming grew louder, Zeta's heart skipped a beat. It was his team! They had found him!\n",
            "\n",
            "With a burst of energy, Zeta emerged from his shelter, his bright blue eyes shining with joy. His team, a group of maintenance bots just like him, surrounded him, their faces filled with relief and concern.\n",
            "\n",
            "Together, they worked to repair the city's infrastructure and restore power to the streets. And as they worked, Zeta realized that being lost had taught him a valuable lesson: even in the darkest of times, there was always hope, and always a way to find your way back home.\n",
            "------------------------------------------------------------\n",
            "Query: Make a poem about data privacy\n",
            "Output: In the digital realm, we roam so free\n",
            "Leaving trails of data, for all to see\n",
            "Our clicks, our likes, our searches too\n",
            "A digital footprint, for others to pursue\n",
            "\n",
            "We share our thoughts, our feelings, our fears\n",
            "And in return, we get targeted tears\n",
            "Of ads and offers, that seem so bright\n",
            "But at what cost, our privacy in flight\n",
            "\n",
            "The hackers lurk, with malicious intent\n",
            "Stealing our secrets, with no relent\n",
            "Our passwords, our credit cards, our names\n",
            "Exposed to the world, with no shame\n",
            "\n",
            "The governments too, with surveillance eyes\n",
            "Watching our every move, with no surprise\n",
            "They claim it's for our safety, our security too\n",
            "But at what cost, our freedom anew\n",
            "\n",
            "We must be aware, of the risks we take\n",
            "When we share our data, for the sake\n",
            "Of convenience, of ease and speed\n",
            "But at what cost, our privacy to read\n",
            "\n",
            "So let us be mindful, of what we share\n",
            "And take steps to protect, our digital lair\n",
            "Use strong passwords, and keep them tight\n",
            "And be cautious, of the data in sight\n",
            "\n",
            "For our privacy is precious, it's true\n",
            "And we must fight, to keep it anew\n",
            "In the digital age, where data reigns\n",
            "Let us be wise, and protect our digital domains.\n",
            "------------------------------------------------------------\n",
            "Query: Can I get a joke about exams?\n",
            "Output: Here's one:\n",
            "\n",
            "Why did the student bring a ladder to the exam?\n",
            "\n",
            "Because they wanted to \"elevate\" their learning experience! (get it?)\n",
            "\n",
            "Hope that made you laugh!\n",
            "------------------------------------------------------------\n",
            "Query: Write a poem for Earth Day\n",
            "Output: Here's a poem for Earth Day:\n",
            "\n",
            "**A Home for All**\n",
            "\n",
            "On this day, we pause to reflect,\n",
            "On the planet we call our inspect,\n",
            "A home for all, a world so grand,\n",
            "Where life abounds, in every land.\n",
            "\n",
            "The earth, a jewel, so rare and bright,\n",
            "A treasure trove, of beauty and light,\n",
            "From mountains high to oceans wide,\n",
            "A tapestry, where life resides.\n",
            "\n",
            "We've taken much, and given little thought,\n",
            "To the consequences, of our actions brought,\n",
            "Pollution, waste, and climate's sway,\n",
            "A fragile balance, we must sway.\n",
            "\n",
            "But still, there's hope, a chance to mend,\n",
            "To heal the wounds, that we've offended,\n",
            "To reduce, to reuse, to recycle too,\n",
            "To live in harmony, with all anew.\n",
            "\n",
            "Let's plant some trees, and nurture the ground,\n",
            "Let's conserve water, and reduce our sound,\n",
            "Let's use our voices, to make a stand,\n",
            "For a sustainable future, in this land.\n",
            "\n",
            "On this Earth Day, let's make a vow,\n",
            "To cherish and protect, this world we know,\n",
            "For future generations, to thrive and grow,\n",
            "In a world that's healthy, and full of glow.\n",
            "\n",
            "So let's join hands, and take a stand,\n",
            "For the earth, our home, in this land,\n",
            "And work together, to make it right,\n",
            "For a brighter future, shining bright.\n",
            "------------------------------------------------------------\n"
          ]
        }
      ]
    },
    {
      "cell_type": "code",
      "source": [
        "# Section 5: Orchestrator-Worker - LangGraph\n",
        "# This pattern uses one LLM (the orchestrator) to plan subtasks and dispatches them to workers.\n",
        "# Each worker handles one task (e.g., a section of a report), and a final node merges their outputs.\n",
        "\n",
        "# Define the section schema and planning output model\n",
        "from pydantic import BaseModel, Field\n",
        "from typing import List\n",
        "\n",
        "class Section(BaseModel):\n",
        "    title: str = Field(..., description=\"Section title\")\n",
        "    description: str = Field(..., description=\"Brief description of the section\")\n",
        "\n",
        "class Plan(BaseModel):\n",
        "    sections: List[Section]\n"
      ],
      "metadata": {
        "id": "D0yA7_R2w93S"
      },
      "execution_count": 41,
      "outputs": []
    },
    {
      "cell_type": "code",
      "source": [
        "# Wrap the LLM to return structured plan output\n",
        "planner_llm = llm.with_structured_output(Plan)\n"
      ],
      "metadata": {
        "id": "XGJdxjjIw96S"
      },
      "execution_count": 42,
      "outputs": []
    },
    {
      "cell_type": "code",
      "source": [
        "# Define the orchestrator state using TypedDict\n",
        "from typing_extensions import TypedDict\n",
        "from typing import Annotated\n",
        "import operator\n",
        "\n",
        "class OrchestratorState(TypedDict):\n",
        "    topic: str\n",
        "    sections: List[Section]\n",
        "    drafts: Annotated[List[str], operator.add]\n",
        "    report: str\n",
        "\n",
        "class WorkerState(TypedDict):\n",
        "    section: Section\n",
        "    drafts: Annotated[List[str], operator.add]\n"
      ],
      "metadata": {
        "id": "TqhYBdJRw991"
      },
      "execution_count": 43,
      "outputs": []
    },
    {
      "cell_type": "code",
      "source": [
        "# Define orchestrator node\n",
        "from langchain_core.messages import HumanMessage, SystemMessage\n",
        "\n",
        "def orchestrator(state: OrchestratorState):\n",
        "    result = planner_llm.invoke(f\"Plan a technical report about: {state['topic']}\")\n",
        "    return {\"sections\": result.sections}\n"
      ],
      "metadata": {
        "id": "15BpQha0w43X"
      },
      "execution_count": 44,
      "outputs": []
    },
    {
      "cell_type": "code",
      "source": [
        "# Define worker node to write each section\n",
        "\n",
        "def write_section(state: WorkerState):\n",
        "    s = state[\"section\"]\n",
        "    response = llm.invoke(f\"Write a markdown section titled '{s.title}': {s.description}\")\n",
        "    return {\"drafts\": [response.content]}\n"
      ],
      "metadata": {
        "id": "mOktTB5oxDyA"
      },
      "execution_count": 45,
      "outputs": []
    },
    {
      "cell_type": "code",
      "source": [
        "# Define the merge function to create the final report\n",
        "\n",
        "def synthesize(state: OrchestratorState):\n",
        "    combined = \"\\n\\n---\\n\\n\".join(state[\"drafts\"])\n",
        "    return {\"report\": combined}\n"
      ],
      "metadata": {
        "id": "_llZN0pUxD4m"
      },
      "execution_count": 46,
      "outputs": []
    },
    {
      "cell_type": "code",
      "source": [
        "# Define a function to assign each section to a worker using Send API\n",
        "from langgraph.constants import Send\n",
        "\n",
        "def assign_sections(state: OrchestratorState):\n",
        "    return [Send(\"write_section\", {\"section\": s}) for s in state[\"sections\"]]\n"
      ],
      "metadata": {
        "id": "QXpURimsxECn"
      },
      "execution_count": 47,
      "outputs": []
    },
    {
      "cell_type": "code",
      "source": [
        "# Build the orchestrator-worker graph\n",
        "from langgraph.graph import StateGraph, START, END\n",
        "\n",
        "ow_graph = StateGraph(OrchestratorState)\n",
        "ow_graph.add_node(\"orchestrator\", orchestrator)\n",
        "ow_graph.add_node(\"write_section\", write_section)\n",
        "ow_graph.add_node(\"synthesize\", synthesize)\n",
        "\n",
        "ow_graph.add_edge(START, \"orchestrator\")\n",
        "ow_graph.add_conditional_edges(\"orchestrator\", assign_sections, [\"write_section\"])\n",
        "ow_graph.add_edge(\"write_section\", \"synthesize\")\n",
        "ow_graph.add_edge(\"synthesize\", END)\n",
        "\n",
        "compiled_ow = ow_graph.compile()\n"
      ],
      "metadata": {
        "id": "TVKQpUOexICE"
      },
      "execution_count": 48,
      "outputs": []
    },
    {
      "cell_type": "code",
      "source": [
        "# Display the orchestrator-worker workflow\n",
        "from IPython.display import Image, display\n",
        "display(Image(compiled_ow.get_graph().draw_mermaid_png()))\n"
      ],
      "metadata": {
        "colab": {
          "base_uri": "https://localhost:8080/",
          "height": 449
        },
        "id": "GH2H7vo6xIFo",
        "outputId": "8a013ba4-1d44-4950-b770-198083e23c5e"
      },
      "execution_count": 49,
      "outputs": [
        {
          "output_type": "display_data",
          "data": {
            "image/png": "[encoded data removed]",
            "text/plain": [
              "<IPython.core.display.Image object>"
            ]
          },
          "metadata": {}
        }
      ]
    },
    {
      "cell_type": "code",
      "source": [
        "# Run the orchestrator-worker workflow with LangSmith tracing\n",
        "from langsmith import traceable\n",
        "\n",
        "@traceable(name=\"Orchestrator-Worker Report Generator\")\n",
        "def run_ow(topic):\n",
        "    return compiled_ow.invoke({\"topic\": topic})\n"
      ],
      "metadata": {
        "id": "Rhu607U-xKgK"
      },
      "execution_count": 50,
      "outputs": []
    },
    {
      "cell_type": "code",
      "source": [
        "# Single test topic\n",
        "result = run_ow(\"The benefits and risks of generative AI\")\n",
        "print(result[\"report\"])\n"
      ],
      "metadata": {
        "colab": {
          "base_uri": "https://localhost:8080/"
        },
        "id": "HqIcrANQxKjh",
        "outputId": "1a45dd82-016d-47a9-8a78-789ff5ee15ac"
      },
      "execution_count": 51,
      "outputs": [
        {
          "output_type": "stream",
          "name": "stdout",
          "text": [
            "**Introduction**\n",
            "================\n",
            "\n",
            "Generative AI has been gaining significant attention in recent years, with its potential to revolutionize various industries and aspects of our lives. However, as with any emerging technology, it's essential to understand both the benefits and risks associated with generative AI.\n",
            "\n",
            "On one hand, generative AI has the potential to bring about numerous benefits, such as:\n",
            "\n",
            "* **Increased efficiency**: Generative AI can automate repetitive and time-consuming tasks, freeing up human resources for more creative and high-value work.\n",
            "* **Improved accuracy**: Generative AI can learn from large datasets and make predictions or generate content with high accuracy, reducing the likelihood of human error.\n",
            "* **New creative possibilities**: Generative AI can create new and innovative content, such as music, art, and writing, that can inspire and delight humans.\n",
            "\n",
            "On the other hand, generative AI also poses several risks, including:\n",
            "\n",
            "* **Job displacement**: The automation of tasks by generative AI could displace human workers, leading to unemployment and social unrest.\n",
            "* **Biased output**: Generative AI models can perpetuate biases present in the data they were trained on, leading to unfair and discriminatory outcomes.\n",
            "* **Loss of human touch**: The increasing reliance on generative AI could lead to a loss of human touch and empathy in various aspects of life, such as customer service and healthcare.\n",
            "\n",
            "In this section, we will delve deeper into the benefits and risks of generative AI, exploring the potential implications for individuals, organizations, and society as a whole.\n",
            "\n",
            "---\n",
            "\n",
            "**Benefits**\n",
            "================\n",
            "\n",
            "Generative AI offers numerous benefits that can revolutionize the way we work and live. Some of the key advantages include:\n",
            "\n",
            "### Improved Efficiency\n",
            "\n",
            "Generative AI can automate repetitive and time-consuming tasks, freeing up human resources to focus on more strategic and creative work. By automating tasks such as data entry, bookkeeping, and customer service, generative AI can help businesses increase productivity and reduce costs.\n",
            "\n",
            "### Increased Creativity\n",
            "\n",
            "Generative AI has the ability to generate new and innovative ideas, products, and services. By analyzing large datasets and identifying patterns and relationships, generative AI can help humans think outside the box and come up with novel solutions to complex problems.\n",
            "\n",
            "### Enhanced Decision-Making Capabilities\n",
            "\n",
            "Generative AI can analyze vast amounts of data and provide insights that can inform decision-making. By identifying trends, patterns, and correlations, generative AI can help humans make more informed and data-driven decisions.\n",
            "\n",
            "Additionally, generative AI can also:\n",
            "\n",
            "* **Improve customer experiences**: By generating personalized recommendations and offers, generative AI can help businesses build stronger relationships with their customers.\n",
            "* **Enhance research and development**: By generating new ideas and hypotheses, generative AI can help researchers and scientists accelerate the discovery process.\n",
            "* **Streamline operations**: By automating routine tasks and processes, generative AI can help businesses reduce errors and improve overall efficiency.\n",
            "\n",
            "Overall, the benefits of generative AI are vast and varied, and can have a significant impact on businesses, industries, and individuals alike.\n",
            "\n",
            "---\n",
            "\n",
            "**Risks**\n",
            "======================================================\n",
            "\n",
            "While generative AI has the potential to revolutionize industries and improve lives, it also poses several risks that must be carefully considered. This section will explore the potential drawbacks of generative AI, including:\n",
            "\n",
            "### Job Displacement\n",
            "\n",
            "One of the most significant risks associated with generative AI is the potential for job displacement. As machines become increasingly capable of performing tasks that were previously done by humans, there is a risk that many people may lose their jobs. This could have significant social and economic implications, particularly for those who are already vulnerable or marginalized.\n",
            "\n",
            "### Biased Decision-Making\n",
            "\n",
            "Generative AI models are only as good as the data they are trained on, and if that data is biased, the models will reflect those biases. This could lead to unfair and discriminatory decision-making, particularly in areas such as hiring, lending, and criminal justice. For example, if a model is trained on data that is biased towards men, it may be more likely to recommend men for certain jobs or promotions.\n",
            "\n",
            "### Misuse\n",
            "\n",
            "Generative AI also poses a risk of misuse, particularly in the hands of malicious actors. For example, a malicious actor could use a generative AI model to create fake news articles or propaganda, or to spread disinformation and manipulate public opinion. Additionally, generative AI could be used to create fake identities or personas, which could be used for nefarious purposes such as identity theft or fraud.\n",
            "\n",
            "### Other Risks\n",
            "\n",
            "Other risks associated with generative AI include:\n",
            "\n",
            "* **Loss of creativity**: As machines become more capable of generating creative content, there is a risk that humans may lose their ability to create and innovate.\n",
            "* **Dependence on technology**: Generative AI could lead to a dependence on technology, which could have negative consequences for individuals and society as a whole.\n",
            "* **Unintended consequences**: Generative AI could have unintended consequences, such as the creation of new forms of pollution or environmental degradation.\n",
            "\n",
            "Overall, while generative AI has the potential to bring many benefits, it is essential to carefully consider the risks and take steps to mitigate them.\n",
            "\n",
            "---\n",
            "\n",
            "**Conclusion**\n",
            "================================\n",
            "\n",
            "As we have explored the capabilities and applications of generative AI, it is essential to acknowledge both the benefits and risks associated with this technology. On one hand, generative AI has the potential to revolutionize industries and transform the way we live and work. It can automate repetitive tasks, create new forms of art and entertainment, and even help us better understand complex systems. However, it also raises concerns about job displacement, bias, and the potential for misuse.\n",
            "\n",
            "To ensure that the benefits of generative AI are realized while minimizing its risks, it is crucial that we adopt a responsible approach to its development and deployment. This includes:\n",
            "\n",
            "* **Transparency and explainability**: Generative AI models should be designed to provide clear explanations of their decision-making processes and outputs, allowing users to understand and trust the results.\n",
            "* **Fairness and bias mitigation**: Developers should take steps to ensure that generative AI models are fair and unbiased, avoiding perpetuation of existing social and economic inequalities.\n",
            "* **Human oversight and control**: Generative AI systems should be designed with human oversight and control mechanisms to prevent unintended consequences and ensure that the technology is used responsibly.\n",
            "* **Ethical considerations**: Developers and users of generative AI should consider the ethical implications of their work, including issues related to privacy, security, and intellectual property.\n",
            "* **Regulatory frameworks**: Governments and regulatory bodies should establish clear guidelines and regulations for the development and deployment of generative AI, ensuring that the technology is used in a responsible and ethical manner.\n",
            "\n",
            "By adopting these principles and best practices, we can harness the potential of generative AI to create a better future for all, while minimizing its risks and ensuring that it is used in a responsible and ethical manner.\n"
          ]
        }
      ]
    },
    {
      "cell_type": "code",
      "source": [
        "# Run multiple test topics through the orchestrator-worker graph\n",
        "\n",
        "topics = [\n",
        "    \"How blockchain impacts finance\",\n",
        "    \"Introduction to quantum computing\"\n",
        "]\n",
        "\n",
        "for topic in topics:\n",
        "    report = run_ow(topic)[\"report\"]\n",
        "    print(\"Topic:\", topic)\n",
        "    print(report[:600])\n",
        "    print(\"-\" * 40)\n"
      ],
      "metadata": {
        "colab": {
          "base_uri": "https://localhost:8080/"
        },
        "id": "6dFblf8Lwyfc",
        "outputId": "b7435de6-cb5e-4bb0-9fe7-2efef8a61363"
      },
      "execution_count": 54,
      "outputs": [
        {
          "output_type": "stream",
          "name": "stdout",
          "text": [
            "Topic: How blockchain impacts finance\n",
            "**Introduction**\n",
            "================\n",
            "\n",
            "The advent of blockchain technology has sent shockwaves throughout the financial industry, promising to revolutionize the way we conduct transactions, manage assets, and interact with each other. At its core, blockchain is a decentralized, distributed ledger that enables secure, transparent, and tamper-proof record-keeping. This technology has the potential to disrupt traditional financial systems, creating new opportunities for innovation, efficiency, and cost savings.\n",
            "\n",
            "In this section, we will explore the impact of blockchain on finance, examining its poten\n",
            "----------------------------------------\n",
            "Topic: Introduction to quantum computing\n",
            "**Introduction to Quantum Computing**\n",
            "=====================================\n",
            "\n",
            "Quantum computing is a revolutionary technology that has the potential to transform the way we approach complex problems in various fields. In this section, we will provide an overview of quantum computing, its history, and its potential applications.\n",
            "\n",
            "### What is Quantum Computing?\n",
            "\n",
            "Quantum computing is a type of computing that uses the principles of quantum mechanics to perform calculations and operations on data. Unlike classical computers, which use bits to store and process information, quantum computers use quan\n",
            "----------------------------------------\n"
          ]
        }
      ]
    },
    {
      "cell_type": "code",
      "source": [
        "# Section 6: Evaluator-Optimizer - LangGraph\n",
        "# This pattern uses a feedback loop where one LLM generates an output,\n",
        "# another LLM evaluates it and provides feedback, and the generation is retried until it passes quality.\n",
        "\n",
        "# Define structured schema for evaluation output\n",
        "from pydantic import BaseModel, Field\n",
        "from typing import Literal\n",
        "\n",
        "class Feedback(BaseModel):\n",
        "    grade: Literal[\"good\", \"bad\"] = Field(..., description=\"Quality rating of the draft\")\n",
        "    comment: str = Field(..., description=\"Improvement advice if needed\")\n"
      ],
      "metadata": {
        "id": "GY4Kj2tpxQBN"
      },
      "execution_count": 55,
      "outputs": []
    },
    {
      "cell_type": "code",
      "source": [
        "# Wrap the LLM with structured output to use as the evaluator\n",
        "eval_llm = llm.with_structured_output(Feedback)\n"
      ],
      "metadata": {
        "id": "MXjshAtbxQE9"
      },
      "execution_count": 56,
      "outputs": []
    },
    {
      "cell_type": "code",
      "source": [
        "# Define the state of the loop using TypedDict\n",
        "from typing_extensions import TypedDict\n",
        "\n",
        "class EvalState(TypedDict):\n",
        "    topic: str\n",
        "    draft: str\n",
        "    comment: str\n",
        "    grade: str\n"
      ],
      "metadata": {
        "id": "1uq3vgOcxR3S"
      },
      "execution_count": 57,
      "outputs": []
    },
    {
      "cell_type": "code",
      "source": [
        "# Define the LLM generation node\n",
        "\n",
        "def generate_draft(state: EvalState):\n",
        "    if state.get(\"comment\"):\n",
        "        prompt = f\"Rewrite a tweet about {state['topic']} using this feedback: {state['comment']}\"\n",
        "    else:\n",
        "        prompt = f\"Write a tweet about {state['topic']}\"\n",
        "    result = llm.invoke(prompt)\n",
        "    return {\"draft\": result.content}\n"
      ],
      "metadata": {
        "id": "bmeV4x34xWR4"
      },
      "execution_count": 58,
      "outputs": []
    },
    {
      "cell_type": "code",
      "source": [
        "# Define the evaluator node\n",
        "\n",
        "def evaluate_draft(state: EvalState):\n",
        "    feedback = eval_llm.invoke(\n",
        "        \"Evaluate the following tweet.\\n\\n\"\n",
        "        f\"Tweet: {state['draft']}\\n\\n\"\n",
        "        \"Respond in JSON with keys: grade ('good' or 'bad') and comment (string of feedback).\\n\"\n",
        "        \"Example:\\n\"\n",
        "        \"{ \\\"grade\\\": \\\"bad\\\", \\\"comment\\\": \\\"Too generic. Add a hook.\\\" }\"\n",
        "    )\n",
        "    return {\"grade\": feedback.grade, \"comment\": feedback.comment}\n"
      ],
      "metadata": {
        "id": "q9V9WZuExWVQ"
      },
      "execution_count": 65,
      "outputs": []
    },
    {
      "cell_type": "code",
      "source": [
        "# Define the routing function that loops until quality is acceptable\n",
        "\n",
        "def should_retry(state: EvalState):\n",
        "    if state[\"grade\"] == \"good\":\n",
        "        return \"finish\"\n",
        "    return \"retry\"\n"
      ],
      "metadata": {
        "id": "gymAwHX-xR8e"
      },
      "execution_count": 66,
      "outputs": []
    },
    {
      "cell_type": "code",
      "source": [
        "# Build the evaluator-optimizer feedback loop\n",
        "from langgraph.graph import StateGraph, START, END\n",
        "\n",
        "eval_graph = StateGraph(EvalState)\n",
        "eval_graph.add_node(\"generate\", generate_draft)\n",
        "eval_graph.add_node(\"evaluate\", evaluate_draft)\n",
        "\n",
        "eval_graph.add_edge(START, \"generate\")\n",
        "eval_graph.add_edge(\"generate\", \"evaluate\")\n",
        "eval_graph.add_conditional_edges(\"evaluate\", should_retry, {\n",
        "    \"retry\": \"generate\",\n",
        "    \"finish\": END\n",
        "})\n",
        "\n",
        "compiled_eval = eval_graph.compile()\n"
      ],
      "metadata": {
        "id": "tFgN6aDhx8yJ"
      },
      "execution_count": 67,
      "outputs": []
    },
    {
      "cell_type": "code",
      "source": [
        "# Display the evaluator-optimizer loop diagram\n",
        "from IPython.display import Image, display\n",
        "display(Image(compiled_eval.get_graph().draw_mermaid_png()))\n"
      ],
      "metadata": {
        "colab": {
          "base_uri": "https://localhost:8080/",
          "height": 398
        },
        "id": "-l5bVNh1x81A",
        "outputId": "25b7d788-12fc-4840-cf7d-c9fe89de8c9a"
      },
      "execution_count": 68,
      "outputs": [
        {
          "output_type": "display_data",
          "data": {
            "image/png": "[encoded data removed]",
            "text/plain": [
              "<IPython.core.display.Image object>"
            ]
          },
          "metadata": {}
        }
      ]
    },
    {
      "cell_type": "code",
      "source": [
        "# Run the feedback loop with LangSmith tracing\n",
        "from langsmith import traceable\n",
        "\n",
        "@traceable(name=\"Evaluator-Optimizer Tweet Generator\")\n",
        "def run_feedback_loop(topic):\n",
        "    return compiled_eval.invoke({\"topic\": topic})\n"
      ],
      "metadata": {
        "id": "ll9E0R99x84Y"
      },
      "execution_count": 69,
      "outputs": []
    },
    {
      "cell_type": "code",
      "source": [
        "# Single test topic\n",
        "result = run_feedback_loop(\"AI in education\")\n",
        "print(\"Final draft:\", result[\"draft\"])\n"
      ],
      "metadata": {
        "colab": {
          "base_uri": "https://localhost:8080/"
        },
        "id": "KzqKbH3tyBME",
        "outputId": "3208c7f2-33a9-41df-cb92-8c527f5d885a"
      },
      "execution_count": 70,
      "outputs": [
        {
          "output_type": "stream",
          "name": "stdout",
          "text": [
            "Final draft: \"AI is revolutionizing education! From personalized learning to adaptive assessments, AI-powered tools are helping students learn more efficiently and effectively. What's your favorite AI-powered educational tool? #AIinEd #EdTech\"\n"
          ]
        }
      ]
    },
    {
      "cell_type": "code",
      "source": [
        "# Run multiple topics through the feedback loop\n",
        "\n",
        "topics = [\n",
        "    \"The power of open source\",\n",
        "    \"Tips for staying focused\",\n",
        "    \"Risks of AI-generated misinformation\",\n",
        "    \"Productivity hacks for remote workers\",\n",
        "    \"How LLMs learn from data\"\n",
        "]\n",
        "\n",
        "for topic in topics:\n",
        "    result = run_feedback_loop(topic)\n",
        "    print(\"Topic:\", topic)\n",
        "    print(\"Final tweet:\", result[\"draft\"])\n",
        "    print(\"-\" * 60)\n"
      ],
      "metadata": {
        "colab": {
          "base_uri": "https://localhost:8080/"
        },
        "id": "YHtBDliRyBPO",
        "outputId": "2df7182f-f7da-4539-a38d-01555bc7b2b6"
      },
      "execution_count": 71,
      "outputs": [
        {
          "output_type": "stream",
          "name": "stdout",
          "text": [
            "Topic: The power of open source\n",
            "Final tweet: \"The power of open source is undeniable! By sharing knowledge and code, communities come together to create innovative solutions, drive progress, and make a lasting impact. Let's keep embracing the spirit of collaboration and transparency! #OpenSource #Collaboration #Innovation\"\n",
            "------------------------------------------------------------\n",
            "Topic: Tips for staying focused\n",
            "Final tweet: \"Stay focused and crush your goals! Here are some tips to help you stay on track: Set clear goals, Prioritize tasks, Break tasks into smaller chunks, Eliminate distractions, Take breaks, Practice mindfulness, Get enough sleep. What's your favorite tip for staying focused? #productivity #focus\"\n",
            "------------------------------------------------------------\n",
            "Topic: Risks of AI-generated misinformation\n",
            "Final tweet: \"New threat alert! AI-generated misinformation is on the rise, spreading false info at an alarming rate. With AI's ability to mimic human voices & styles, it's getting harder to distinguish fact from fiction. Stay vigilant & fact-check before sharing! #AI #Misinformation #DigitalLiteracy\"\n",
            "------------------------------------------------------------\n",
            "Topic: Productivity hacks for remote workers\n",
            "Final tweet: \"Boost your productivity as a remote worker! Try these hacks: Create a dedicated workspace, Use the Pomodoro Technique, Prioritize tasks, Take regular breaks, and Stay connected with colleagues. What's your favorite productivity hack? #remotework #productivityhacks\"\n",
            "------------------------------------------------------------\n",
            "Topic: How LLMs learn from data\n",
            "Final tweet: \"Did you know that Large Language Models (LLMs) learn from data through a process called self-supervised learning? They're trained on massive datasets, identifying patterns and relationships to improve their language understanding and generation capabilities! #LLMs #AI #NLP\"\n",
            "------------------------------------------------------------\n"
          ]
        }
      ]
    },
    {
      "cell_type": "code",
      "source": [
        "# Section 7: ReAct Agent - LangGraph\n",
        "# This agent plans, calls tools step-by-step, observes results, and stops when the answer is complete.\n",
        "# Tools: add, multiply, divide. The LLM must use tools and provide a final answer in plain language.\n",
        "\n",
        "# Define arithmetic tools with docstrings\n",
        "from langchain_core.tools import tool\n",
        "\n",
        "@tool\n",
        "def add(a: int, b: int) -> int:\n",
        "    \"\"\"Add two integers and return the result.\"\"\"\n",
        "    return a + b\n",
        "\n",
        "@tool\n",
        "def multiply(a: int, b: int) -> int:\n",
        "    \"\"\"Multiply two integers and return the result.\"\"\"\n",
        "    return a * b\n",
        "\n",
        "@tool\n",
        "def divide(a: int, b: int) -> float:\n",
        "    \"\"\"Divide the first integer by the second and return the result.\"\"\"\n",
        "    return a / b\n",
        "\n"
      ],
      "metadata": {
        "id": "3IJYx05Hyr_c"
      },
      "execution_count": 83,
      "outputs": []
    },
    {
      "cell_type": "code",
      "source": [
        "# Bind tools to the LLM\n",
        "tools = [add, multiply, divide]\n",
        "tools_by_name = {tool.name: tool for tool in tools}\n",
        "llm_with_tools = llm.bind_tools(tools)\n"
      ],
      "metadata": {
        "id": "PUE9zzeOysC_"
      },
      "execution_count": 84,
      "outputs": []
    },
    {
      "cell_type": "code",
      "source": [
        "# Define the agent state and messages API\n",
        "from langgraph.graph import MessagesState\n",
        "from langchain_core.messages import HumanMessage, SystemMessage, ToolMessage\n"
      ],
      "metadata": {
        "id": "4TMZcLLFy-4v"
      },
      "execution_count": 85,
      "outputs": []
    },
    {
      "cell_type": "code",
      "source": [
        "# Define the LLM planning node with a complete system prompt\n",
        "\n",
        "def llm_plan(state: MessagesState):\n",
        "    system = SystemMessage(\n",
        "        content=(\n",
        "            \"You are a helpful math assistant.\\n\"\n",
        "            \"Use tools (add, multiply, divide) for all calculations.\\n\"\n",
        "            \"Once no more tool use is needed, reply with the final answer in plain English.\"\n",
        "        )\n",
        "    )\n",
        "    messages = [system] + state[\"messages\"]\n",
        "    output = llm_with_tools.invoke(messages)\n",
        "    return {\"messages\": [output]}\n"
      ],
      "metadata": {
        "id": "K_aoht_-y-9J"
      },
      "execution_count": 86,
      "outputs": []
    },
    {
      "cell_type": "code",
      "source": [
        "# Define the tool execution node\n",
        "\n",
        "def execute_tool(state: MessagesState):\n",
        "    last = state[\"messages\"][-1]\n",
        "    responses = []\n",
        "    for call in getattr(last, \"tool_calls\", []):\n",
        "        tool_fn = tools_by_name[call[\"name\"]].func\n",
        "        result = tool_fn(**call[\"args\"])\n",
        "        responses.append(ToolMessage(content=str(result), tool_call_id=call[\"id\"]))\n",
        "    return {\"messages\": responses}\n"
      ],
      "metadata": {
        "id": "oMONzEcuy_Ah"
      },
      "execution_count": 87,
      "outputs": []
    },
    {
      "cell_type": "code",
      "source": [
        "# Define the routing function\n",
        "\n",
        "from langgraph.graph import END\n",
        "\n",
        "def should_continue(state: MessagesState):\n",
        "    last = state[\"messages\"][-1]\n",
        "    if getattr(last, \"tool_calls\", None):\n",
        "        return \"environment\"\n",
        "    return END\n"
      ],
      "metadata": {
        "id": "F1ocKl7czDBq"
      },
      "execution_count": 88,
      "outputs": []
    },
    {
      "cell_type": "code",
      "source": [
        "# Build the ReAct agent using LangGraph\n",
        "from langgraph.graph import StateGraph, START\n",
        "\n",
        "agent_graph = StateGraph(MessagesState)\n",
        "agent_graph.add_node(\"llm_plan\", llm_plan)\n",
        "agent_graph.add_node(\"environment\", execute_tool)\n",
        "\n",
        "agent_graph.add_edge(START, \"llm_plan\")\n",
        "agent_graph.add_conditional_edges(\"llm_plan\", should_continue, {\n",
        "    \"environment\": \"environment\",\n",
        "    END: END\n",
        "})\n",
        "agent_graph.add_edge(\"environment\", \"llm_plan\")\n",
        "\n",
        "compiled_agent = agent_graph.compile()\n"
      ],
      "metadata": {
        "id": "VYQa9U-rzDFR"
      },
      "execution_count": 89,
      "outputs": []
    },
    {
      "cell_type": "code",
      "source": [
        "# Visualize the ReAct agent flow\n",
        "from IPython.display import Image, display\n",
        "display(Image(compiled_agent.get_graph(xray=True).draw_mermaid_png()))\n"
      ],
      "metadata": {
        "colab": {
          "base_uri": "https://localhost:8080/",
          "height": 266
        },
        "id": "c-ljM6NSy_EL",
        "outputId": "e5b5e3c2-918f-4045-ec3e-44b762d4d5bd"
      },
      "execution_count": 90,
      "outputs": [
        {
          "output_type": "display_data",
          "data": {
            "image/png": "[encoded data removed]",
            "text/plain": [
              "<IPython.core.display.Image object>"
            ]
          },
          "metadata": {}
        }
      ]
    },
    {
      "cell_type": "code",
      "source": [
        "# Enable LangSmith tracing and define a runner\n",
        "from langsmith import traceable\n",
        "\n",
        "@traceable(name=\"ReAct Math Agent\")\n",
        "def run_agent(query):\n",
        "    return compiled_agent.invoke({\"messages\": [HumanMessage(content=query)]})\n"
      ],
      "metadata": {
        "id": "-AhjPMumzG7H"
      },
      "execution_count": 91,
      "outputs": []
    },
    {
      "cell_type": "code",
      "source": [
        "# Run a single test query and extract the final answer\n",
        "state = run_agent(\"What is 5 * 4 + 3?\")\n",
        "\n",
        "for msg in reversed(state[\"messages\"]):\n",
        "    if not getattr(msg, \"tool_calls\", None) and hasattr(msg, \"content\") and msg.content:\n",
        "        print(\"Final Answer:\", msg.content)\n",
        "        break\n"
      ],
      "metadata": {
        "colab": {
          "base_uri": "https://localhost:8080/"
        },
        "id": "-7Gof6Z4zG-0",
        "outputId": "dc08bf8e-fe22-48e6-d6a8-97facfc7bd86"
      },
      "execution_count": 92,
      "outputs": [
        {
          "output_type": "stream",
          "name": "stdout",
          "text": [
            "Final Answer: The final answer is: 23\n"
          ]
        }
      ]
    },
    {
      "cell_type": "code",
      "source": [
        "# Run multiple test queries\n",
        "\n",
        "queries = [\n",
        "    \"What is 7 + 2?\",\n",
        "    \"What is 8 * 5?\",\n",
        "    \"Add 10 to the product of 4 and 3.\",\n",
        "    \"Multiply 2 by 3, add 4, then divide by 2.\"\n",
        "]\n",
        "\n",
        "for q in queries:\n",
        "    print(\"Query:\", q)\n",
        "    state = run_agent(q)\n",
        "    for msg in reversed(state[\"messages\"]):\n",
        "        if not getattr(msg, \"tool_calls\", None) and hasattr(msg, \"content\") and msg.content:\n",
        "            print(\"Final Answer:\", msg.content)\n",
        "            break\n",
        "    print(\"-\" * 60)\n"
      ],
      "metadata": {
        "colab": {
          "base_uri": "https://localhost:8080/"
        },
        "id": "B5ZwS_lPzKTG",
        "outputId": "b64e17ee-c96d-4604-f5a5-0902df23dfeb"
      },
      "execution_count": 94,
      "outputs": [
        {
          "output_type": "stream",
          "name": "stdout",
          "text": [
            "Query: What is 7 + 2?\n",
            "Final Answer: The answer is 9.\n",
            "------------------------------------------------------------\n",
            "Query: What is 8 * 5?\n",
            "Final Answer: The result of the tool call is 40.\n",
            "------------------------------------------------------------\n",
            "Query: Add 10 to the product of 4 and 3.\n",
            "Final Answer: The final answer is: 22\n",
            "------------------------------------------------------------\n",
            "Query: Multiply 2 by 3, add 4, then divide by 2.\n",
            "Final Answer: The final answer is 5.0.\n",
            "------------------------------------------------------------\n"
          ]
        }
      ]
    }
  ]
}